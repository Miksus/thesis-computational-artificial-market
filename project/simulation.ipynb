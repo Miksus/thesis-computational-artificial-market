{
 "cells": [
  {
   "cell_type": "code",
   "execution_count": null,
   "metadata": {
    "scrolled": true
   },
   "outputs": [],
   "source": [
    "include(\"src/botmarket.jl\")\n",
    "using .BotMarket\n",
    "include(\"main.jl\")"
   ]
  },
  {
   "cell_type": "markdown",
   "metadata": {},
   "source": [
    "## Basic, start equilibrium"
   ]
  },
  {
   "cell_type": "code",
   "execution_count": null,
   "metadata": {},
   "outputs": [],
   "source": [
    "if ~isdir(\"results/basic\")\n",
    "    mkdir(\"results/basic\")\n",
    "end\n",
    "#include(\"src/botmarket.jl\")\n",
    "#using .BotMarket\n",
    "\n",
    "generic_stock = FixedAsset(0., name=\"stock\")\n",
    "generic_currency = FixedAsset(0., name=\"currency\")\n",
    "\n",
    "assets = [generic_stock, generic_currency]\n",
    "\n",
    "# session\n",
    "world = ExternalWorld()\n",
    "\n",
    "investors = [\n",
    "    ZeroIntelligentInvestor(\n",
    "        Dict{AbstractAsset, Int64}(generic_currency=>100_000_00, generic_stock=>10_000);\n",
    "        deviation=20\n",
    "    )\n",
    "    for i in 1:500\n",
    "]\n",
    "markets = [\n",
    "    DoubleAuctionMarket(generic_stock, generic_currency, name=\"Ccy --> Stock\"),\n",
    "]\n",
    "\n",
    "\n",
    "\n",
    "markets[1].last_price = 1000\n",
    "#markets[2].last_price = 0\n",
    "trading_days = 1000\n",
    "\n",
    "run_simulation(investors, markets, assets, trading_days, 1.0, \"basic\")"
   ]
  },
  {
   "cell_type": "markdown",
   "metadata": {},
   "source": [
    "## Basic, lower start"
   ]
  },
  {
   "cell_type": "code",
   "execution_count": null,
   "metadata": {},
   "outputs": [],
   "source": [
    "if ~isdir(\"results/basic_lower\")\n",
    "    mkdir(\"results/basic_lower\")\n",
    "end\n",
    "#include(\"src/botmarket.jl\")\n",
    "#using .BotMarket\n",
    "\n",
    "generic_stock = FixedAsset(0., name=\"stock\")\n",
    "generic_currency = FixedAsset(0., name=\"currency\")\n",
    "\n",
    "assets = [generic_stock, generic_currency]\n",
    "\n",
    "# session\n",
    "world = ExternalWorld()\n",
    "\n",
    "investors = [\n",
    "    ZeroIntelligentInvestor(\n",
    "        Dict{AbstractAsset, Int64}(generic_currency=>100_000_00, generic_stock=>10_000);\n",
    "        deviation=20\n",
    "    )\n",
    "    for i in 1:500\n",
    "]\n",
    "markets = [\n",
    "    DoubleAuctionMarket(generic_stock, generic_currency, name=\"Ccy --> Stock\"),\n",
    "]\n",
    "\n",
    "\n",
    "\n",
    "markets[1].last_price = 500\n",
    "#markets[2].last_price = 0\n",
    "trading_days = 1000\n",
    "\n",
    "run_simulation(investors, markets, assets, trading_days, 1.0, \"basic_lower\")"
   ]
  },
  {
   "cell_type": "markdown",
   "metadata": {},
   "source": [
    "# Basic, higher start"
   ]
  },
  {
   "cell_type": "code",
   "execution_count": null,
   "metadata": {},
   "outputs": [],
   "source": [
    "if ~isdir(\"results/basic_higher\")\n",
    "    mkdir(\"results/basic_higher\")\n",
    "end\n",
    "#include(\"src/botmarket.jl\")\n",
    "#using .BotMarket\n",
    "\n",
    "generic_stock = FixedAsset(0., name=\"stock\")\n",
    "generic_currency = FixedAsset(0., name=\"currency\")\n",
    "\n",
    "assets = [generic_stock, generic_currency]\n",
    "\n",
    "# session\n",
    "world = ExternalWorld()\n",
    "\n",
    "investors = [\n",
    "    ZeroIntelligentInvestor(\n",
    "        Dict{AbstractAsset, Int64}(generic_currency=>100_000_00, generic_stock=>10_000);\n",
    "        deviation=20\n",
    "    )\n",
    "    for i in 1:500\n",
    "]\n",
    "markets = [\n",
    "    DoubleAuctionMarket(generic_stock, generic_currency, name=\"Ccy --> Stock\"),\n",
    "]\n",
    "\n",
    "\n",
    "\n",
    "markets[1].last_price = 1500\n",
    "#markets[2].last_price = 0\n",
    "trading_days = 1000\n",
    "\n",
    "run_simulation(investors, markets, assets, trading_days, 1.0, \"basic_higher\")"
   ]
  },
  {
   "cell_type": "markdown",
   "metadata": {},
   "source": [
    "## Arbitrage"
   ]
  },
  {
   "cell_type": "code",
   "execution_count": null,
   "metadata": {},
   "outputs": [],
   "source": [
    "if ~isdir(\"results/arbitrage\")\n",
    "    mkdir(\"results/arbitrage\")\n",
    "end\n",
    "#include(\"src/botmarket.jl\")\n",
    "#using .BotMarket\n",
    "\n",
    "generic_stock = FixedAsset(0., name=\"stock\")\n",
    "generic_currency = FixedAsset(0., name=\"currency\")\n",
    "\n",
    "assets = [generic_stock, generic_currency]\n",
    "\n",
    "# session\n",
    "world = ExternalWorld()\n",
    "\n",
    "investors = [\n",
    "    ZeroIntelligentInvestor(\n",
    "        Dict{AbstractAsset, Int64}(generic_currency=>100_000_00, generic_stock=>100_000);\n",
    "        deviation=20\n",
    "    )\n",
    "    for i in 1:500\n",
    "]\n",
    "markets = [\n",
    "    DoubleAuctionMarket(generic_stock, generic_currency, name=\"Ccy --> Stock 1\"),\n",
    "    DoubleAuctionMarket(generic_stock, generic_currency, name=\"Ccy --> Stock 2\"),\n",
    "]\n",
    "\n",
    "\n",
    "\n",
    "markets[1].last_price = 400\n",
    "#markets[2].last_price = 0\n",
    "trading_days = 1000\n",
    "\n",
    "run_simulation(investors, markets, assets, trading_days, 1.0, \"arbitrage\")"
   ]
  },
  {
   "cell_type": "markdown",
   "metadata": {},
   "source": [
    "## Multiasset"
   ]
  },
  {
   "cell_type": "code",
   "execution_count": null,
   "metadata": {},
   "outputs": [],
   "source": [
    "if ~isdir(\"results/multi\")\n",
    "    mkdir(\"results/multi\")\n",
    "end\n",
    "#include(\"src/botmarket.jl\")\n",
    "#using .BotMarket\n",
    "\n",
    "stock_a = FixedAsset(0., name=\"stock a\")\n",
    "stock_b = FixedAsset(0., name=\"stock b\")\n",
    "generic_currency = FixedAsset(0., name=\"currency\")\n",
    "\n",
    "assets = [stock_a, stock_b, generic_currency]\n",
    "\n",
    "# session\n",
    "world = ExternalWorld()\n",
    "\n",
    "investors = [\n",
    "    ZeroIntelligentInvestor(\n",
    "        Dict{AbstractAsset, Int64}(generic_currency=>100_000_00, stock_a=>5_000, stock_b=>5_000);\n",
    "        deviation=20\n",
    "    )\n",
    "    for i in 1:500\n",
    "]\n",
    "markets = [\n",
    "    DoubleAuctionMarket(stock_a, generic_currency, name=\"Ccy --> Stock a\"),\n",
    "    DoubleAuctionMarket(stock_b, generic_currency, name=\"Ccy --> Stock b\"),\n",
    "]\n",
    "\n",
    "\n",
    "\n",
    "markets[1].last_price = 400\n",
    "markets[2].last_price = 400\n",
    "trading_days = 1000\n",
    "\n",
    "run_simulation(investors, markets, assets, trading_days, 1.0, \"multi\")"
   ]
  },
  {
   "cell_type": "markdown",
   "metadata": {},
   "source": [
    "## Small price"
   ]
  },
  {
   "cell_type": "code",
   "execution_count": null,
   "metadata": {},
   "outputs": [],
   "source": [
    "if ~isdir(\"results/basic\")\n",
    "    mkdir(\"results/basic\")\n",
    "end\n",
    "#include(\"src/botmarket.jl\")\n",
    "#using .BotMarket\n",
    "\n",
    "generic_stock = FixedAsset(0., name=\"stock\")\n",
    "generic_currency = FixedAsset(0., name=\"currency\")\n",
    "\n",
    "assets = [generic_stock, generic_currency]\n",
    "\n",
    "# session\n",
    "world = ExternalWorld()\n",
    "\n",
    "investors = [\n",
    "    ZeroIntelligentInvestor(\n",
    "        Dict{AbstractAsset, Int64}(generic_currency=>100_000_00, generic_stock=>100_000);\n",
    "        deviation=50\n",
    "    )\n",
    "    for i in 1:500\n",
    "]\n",
    "markets = [\n",
    "    DoubleAuctionMarket(generic_stock, generic_currency, name=\"Ccy --> Stock\"),\n",
    "]\n",
    "\n",
    "\n",
    "\n",
    "markets[1].last_price = 400\n",
    "#markets[2].last_price = 0\n",
    "trading_days = 1000\n",
    "\n",
    "run_simulation(investors, markets, assets, trading_days, 1.0, \"basic\")"
   ]
  }
 ],
 "metadata": {
  "kernelspec": {
   "display_name": "Julia 1.3.1",
   "language": "julia",
   "name": "julia-1.3"
  },
  "language_info": {
   "file_extension": ".jl",
   "mimetype": "application/julia",
   "name": "julia",
   "version": "1.3.1"
  }
 },
 "nbformat": 4,
 "nbformat_minor": 4
}
