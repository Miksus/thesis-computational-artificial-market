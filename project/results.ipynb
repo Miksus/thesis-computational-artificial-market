{
 "cells": [
  {
   "cell_type": "code",
   "execution_count": null,
   "metadata": {},
   "outputs": [],
   "source": [
    "import pandas as pd\n",
    "import numpy as np\n",
    "from statsmodels.graphics.tsaplots import plot_acf\n",
    "\n",
    "import seaborn as sns\n",
    "from scipy.stats import norm\n",
    "import matplotlib.pyplot as plt\n",
    "%matplotlib inline"
   ]
  },
  {
   "cell_type": "code",
   "execution_count": null,
   "metadata": {},
   "outputs": [],
   "source": [
    "df_trd = pd.read_csv(\"results/trades.csv\")"
   ]
  },
  {
   "cell_type": "code",
   "execution_count": null,
   "metadata": {},
   "outputs": [],
   "source": [
    "df_trd[\"price\"].pct_change().plot()"
   ]
  },
  {
   "cell_type": "code",
   "execution_count": null,
   "metadata": {},
   "outputs": [],
   "source": [
    "df_trd[\"price\"].plot()"
   ]
  },
  {
   "cell_type": "code",
   "execution_count": null,
   "metadata": {},
   "outputs": [],
   "source": [
    "df_trd[\"price\"].pct_change().groupby(df_trd.index // 50).mean().plot()"
   ]
  },
  {
   "cell_type": "markdown",
   "metadata": {},
   "source": [
    "## Autocorrelation of Returns"
   ]
  },
  {
   "cell_type": "code",
   "execution_count": null,
   "metadata": {},
   "outputs": [],
   "source": []
  },
  {
   "cell_type": "code",
   "execution_count": null,
   "metadata": {},
   "outputs": [],
   "source": [
    "fig = plot_acf(df_trd[\"price\"].pct_change(), lags=5, title=f\"Autocorrelation of Rate of Returns, \")\n",
    "\n",
    "#fig.savefig(f\"../thesis/plots/{name.replace(' ', '')}_autocorr.png\")"
   ]
  },
  {
   "cell_type": "markdown",
   "metadata": {},
   "source": [
    "## Volatility Clusters"
   ]
  },
  {
   "cell_type": "code",
   "execution_count": null,
   "metadata": {},
   "outputs": [],
   "source": [
    "df_trd[\"price\"].pct_change().groupby(df_trd.index // 7).std()"
   ]
  },
  {
   "cell_type": "code",
   "execution_count": null,
   "metadata": {},
   "outputs": [],
   "source": [
    "df_trd.index // 7"
   ]
  },
  {
   "cell_type": "code",
   "execution_count": null,
   "metadata": {},
   "outputs": [],
   "source": [
    "fig = plot_acf(df_trd[\"price\"].pct_change().groupby(df_trd.index // 30).std(), lags=50, title=f\"Autocorrelation of volatility of weekly returns\")#.plot()#*(252**0.5)\n",
    "\n",
    "#fig.savefig(f\"../thesis/plots/{name.replace(' ', '')}_vola_autocorr.png\")"
   ]
  },
  {
   "cell_type": "code",
   "execution_count": null,
   "metadata": {},
   "outputs": [],
   "source": [
    "df_test = pd.Series(np.random.normal(size=1000))\n",
    "fig = plot_acf(\n",
    "    df_test.groupby(df_test.index // 7).std(), \n",
    "    lags=20, title=f\"Autocorrelation of volatility of weekly returns\")#.plot()#*(252**0.5)"
   ]
  },
  {
   "cell_type": "code",
   "execution_count": null,
   "metadata": {},
   "outputs": [],
   "source": [
    "pd.Series(np.random.normal(size=1000))"
   ]
  },
  {
   "cell_type": "code",
   "execution_count": null,
   "metadata": {},
   "outputs": [],
   "source": [
    "df_trd[\"price\"].pct_change().groupby(df_trd.index // 7).std().plot()"
   ]
  },
  {
   "cell_type": "markdown",
   "metadata": {},
   "source": [
    "## Fat Tailed Returns"
   ]
  },
  {
   "cell_type": "code",
   "execution_count": null,
   "metadata": {},
   "outputs": [],
   "source": [
    "\n",
    "fig = plt.figure()\n",
    "#data = norm.rvs(5,0.4,size=1000) # you can use a pandas series or a list if you want\n",
    "\n",
    "ax =sns.distplot(df_trd[\"price\"].pct_change().dropna(), fit=norm, kde=False)\n",
    "ax.set_title(f\"Distribution of returns & fitted normal distribution\")\n",
    "plt.legend([\"Fitted normal distribution\", \"S&P returns\"])\n",
    "ax.set_xlabel(\"Daily rate of returns\")\n",
    "#fig.savefig(\"../thesis/plots/S&P500_fat_tails.png\")"
   ]
  },
  {
   "cell_type": "code",
   "execution_count": null,
   "metadata": {},
   "outputs": [],
   "source": []
  }
 ],
 "metadata": {
  "kernelspec": {
   "display_name": "Python 3",
   "language": "python",
   "name": "python3"
  },
  "language_info": {
   "codemirror_mode": {
    "name": "ipython",
    "version": 3
   },
   "file_extension": ".py",
   "mimetype": "text/x-python",
   "name": "python",
   "nbconvert_exporter": "python",
   "pygments_lexer": "ipython3",
   "version": "3.6.6"
  }
 },
 "nbformat": 4,
 "nbformat_minor": 4
}
