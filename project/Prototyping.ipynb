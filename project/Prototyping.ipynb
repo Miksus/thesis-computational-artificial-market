{
 "cells": [
  {
   "cell_type": "code",
   "execution_count": 1,
   "metadata": {},
   "outputs": [
    {
     "ename": "ErrorException",
     "evalue": "syntax: too many type parameters specified in \"new{...}\"",
     "output_type": "error",
     "traceback": [
      "syntax: too many type parameters specified in \"new{...}\"",
      "",
      "Stacktrace:",
      " [1] top-level scope at C:\\Users\\Mxu\\.julia\\packages\\IJulia\\yLI42\\src\\kernel.jl:52"
     ]
    }
   ],
   "source": [
    "struct Ticks{size}\n",
    "    n::Int64\n",
    "    size::Rational\n",
    "    \n",
    "    function Ticks{size}(s::T) where T\n",
    "        new{B,T}(s)\n",
    "    end\n",
    "    function Myticks{size}(s::T) where T\n",
    "        new{B,T}(s)\n",
    "    end\n",
    "end\n",
    "\n"
   ]
  },
  {
   "cell_type": "code",
   "execution_count": 1,
   "metadata": {},
   "outputs": [
    {
     "data": {
      "text/plain": [
       "true"
      ]
     },
     "execution_count": 1,
     "metadata": {},
     "output_type": "execute_result"
    }
   ],
   "source": [
    "isnothing(nothing)"
   ]
  },
  {
   "cell_type": "code",
   "execution_count": 23,
   "metadata": {},
   "outputs": [],
   "source": [
    "mutable struct Test\n",
    "    asset::Int64\n",
    "    currency::Int64\n",
    "    function Test(asset::Int64=5)\n",
    "        new(1, asset)\n",
    "    end\n",
    "end"
   ]
  },
  {
   "cell_type": "code",
   "execution_count": 26,
   "metadata": {},
   "outputs": [
    {
     "ename": "MethodError",
     "evalue": "MethodError: no method matching Test(; asset=10)\nClosest candidates are:\n  Test() at In[23]:5 got unsupported keyword argument \"asset\"\n  Test(!Matched::Int64) at In[23]:5 got unsupported keyword argument \"asset\"",
     "output_type": "error",
     "traceback": [
      "MethodError: no method matching Test(; asset=10)\nClosest candidates are:\n  Test() at In[23]:5 got unsupported keyword argument \"asset\"\n  Test(!Matched::Int64) at In[23]:5 got unsupported keyword argument \"asset\"",
      "",
      "Stacktrace:",
      " [1] top-level scope at In[26]:1"
     ]
    }
   ],
   "source": [
    "Test(asset=10)"
   ]
  },
  {
   "cell_type": "code",
   "execution_count": 35,
   "metadata": {},
   "outputs": [
    {
     "data": {
      "text/plain": [
       "0.8580968411695855"
      ]
     },
     "execution_count": 35,
     "metadata": {},
     "output_type": "execute_result"
    }
   ],
   "source": [
    "using Distributions\n",
    "rand(Normal(2, 2))"
   ]
  },
  {
   "cell_type": "code",
   "execution_count": 57,
   "metadata": {},
   "outputs": [
    {
     "data": {
      "text/plain": [
       "10.0"
      ]
     },
     "execution_count": 57,
     "metadata": {},
     "output_type": "execute_result"
    }
   ],
   "source": [
    "min(10, Inf)"
   ]
  },
  {
   "cell_type": "code",
   "execution_count": 36,
   "metadata": {},
   "outputs": [
    {
     "data": {
      "text/plain": [
       "1.2545613311343278"
      ]
     },
     "execution_count": 36,
     "metadata": {},
     "output_type": "execute_result"
    }
   ],
   "source": [
    "rand(Truncated(Normal(2, 5), 0, 100))"
   ]
  },
  {
   "cell_type": "code",
   "execution_count": 55,
   "metadata": {},
   "outputs": [
    {
     "data": {
      "text/plain": [
       "6.955453406803289"
      ]
     },
     "execution_count": 55,
     "metadata": {},
     "output_type": "execute_result"
    }
   ],
   "source": [
    "rand(Uniform(0, 10))"
   ]
  },
  {
   "cell_type": "code",
   "execution_count": 3,
   "metadata": {},
   "outputs": [
    {
     "data": {
      "text/plain": [
       "Dict{String,Int64} with 2 entries:\n",
       "  \"key2\" => 1\n",
       "  \"key1\" => 0"
      ]
     },
     "execution_count": 3,
     "metadata": {},
     "output_type": "execute_result"
    }
   ],
   "source": [
    "d = Dict(\"key1\" => 0, \"key2\" => 1)"
   ]
  },
  {
   "cell_type": "code",
   "execution_count": 5,
   "metadata": {},
   "outputs": [
    {
     "data": {
      "text/plain": [
       "0"
      ]
     },
     "execution_count": 5,
     "metadata": {},
     "output_type": "execute_result"
    }
   ],
   "source": [
    "d[\"key1\"]"
   ]
  },
  {
   "cell_type": "code",
   "execution_count": 7,
   "metadata": {
    "scrolled": true
   },
   "outputs": [
    {
     "data": {
      "text/plain": [
       "9"
      ]
     },
     "execution_count": 7,
     "metadata": {},
     "output_type": "execute_result"
    }
   ],
   "source": [
    "d[\"key0\"] = 9"
   ]
  },
  {
   "cell_type": "code",
   "execution_count": 16,
   "metadata": {},
   "outputs": [
    {
     "data": {
      "text/plain": [
       "18"
      ]
     },
     "execution_count": 16,
     "metadata": {},
     "output_type": "execute_result"
    }
   ],
   "source": [
    "d[\"key0\"] += 9"
   ]
  },
  {
   "cell_type": "code",
   "execution_count": 17,
   "metadata": {},
   "outputs": [
    {
     "data": {
      "text/plain": [
       "9"
      ]
     },
     "execution_count": 17,
     "metadata": {},
     "output_type": "execute_result"
    }
   ],
   "source": [
    "d[\"key123123123\"] = 9"
   ]
  },
  {
   "cell_type": "code",
   "execution_count": 19,
   "metadata": {},
   "outputs": [
    {
     "ename": "KeyError",
     "evalue": "KeyError: key \"key not\" not found",
     "output_type": "error",
     "traceback": [
      "KeyError: key \"key not\" not found",
      "",
      "Stacktrace:",
      " [1] getindex(::Dict{String,Int64}, ::String) at .\\dict.jl:477",
      " [2] top-level scope at In[19]:1"
     ]
    }
   ],
   "source": [
    "d[\"key not\"] += 9"
   ]
  },
  {
   "cell_type": "code",
   "execution_count": 22,
   "metadata": {},
   "outputs": [
    {
     "data": {
      "text/plain": [
       "false"
      ]
     },
     "execution_count": 22,
     "metadata": {},
     "output_type": "execute_result"
    }
   ],
   "source": [
    "\"key0\" ∉ keys(d)"
   ]
  },
  {
   "cell_type": "code",
   "execution_count": 18,
   "metadata": {},
   "outputs": [
    {
     "data": {
      "text/plain": [
       "Dict{String,Int64} with 4 entries:\n",
       "  \"key2\"         => 1\n",
       "  \"key0\"         => 18\n",
       "  \"key1\"         => 0\n",
       "  \"key123123123\" => 9"
      ]
     },
     "execution_count": 18,
     "metadata": {},
     "output_type": "execute_result"
    }
   ],
   "source": [
    "d"
   ]
  },
  {
   "cell_type": "code",
   "execution_count": 15,
   "metadata": {},
   "outputs": [
    {
     "data": {
      "text/plain": [
       "2"
      ]
     },
     "execution_count": 15,
     "metadata": {},
     "output_type": "execute_result"
    }
   ],
   "source": [
    "get(d, \"key012\", 2)"
   ]
  },
  {
   "cell_type": "code",
   "execution_count": 11,
   "metadata": {},
   "outputs": [
    {
     "ename": "ArgumentError",
     "evalue": "ArgumentError: Package DataStructures not found in current path:\n- Run `import Pkg; Pkg.add(\"DataStructures\")` to install the DataStructures package.\n",
     "output_type": "error",
     "traceback": [
      "ArgumentError: Package DataStructures not found in current path:\n- Run `import Pkg; Pkg.add(\"DataStructures\")` to install the DataStructures package.\n",
      "",
      "Stacktrace:",
      " [1] require(::Module, ::Symbol) at .\\loading.jl:887",
      " [2] top-level scope at In[11]:1"
     ]
    }
   ],
   "source": [
    "using DataStructures\n",
    "DefaultDict"
   ]
  },
  {
   "cell_type": "code",
   "execution_count": 9,
   "metadata": {},
   "outputs": [
    {
     "data": {
      "text/plain": [
       "Base.KeySet for a Dict{String,Int64} with 3 entries. Keys:\n",
       "  \"key2\"\n",
       "  \"key0\"\n",
       "  \"key1\""
      ]
     },
     "execution_count": 9,
     "metadata": {},
     "output_type": "execute_result"
    }
   ],
   "source": [
    "keys(d)"
   ]
  },
  {
   "cell_type": "code",
   "execution_count": 4,
   "metadata": {},
   "outputs": [
    {
     "data": {
      "text/plain": [
       "Dict{Symbol,Int64} with 2 entries:\n",
       "  :asd  => 2\n",
       "  :cash => 1"
      ]
     },
     "execution_count": 4,
     "metadata": {},
     "output_type": "execute_result"
    }
   ],
   "source": [
    "Dict(:cash=>1, :asd=>2)"
   ]
  },
  {
   "cell_type": "code",
   "execution_count": null,
   "metadata": {},
   "outputs": [],
   "source": [
    "Dict(:cash=>1, :asd=>2)"
   ]
  },
  {
   "cell_type": "code",
   "execution_count": 23,
   "metadata": {},
   "outputs": [
    {
     "data": {
      "text/plain": [
       "myfunc (generic function with 1 method)"
      ]
     },
     "execution_count": 23,
     "metadata": {},
     "output_type": "execute_result"
    }
   ],
   "source": [
    "function myfunc(o::Order)\n",
    "    println(o)\n",
    "    asd\n",
    "end"
   ]
  },
  {
   "cell_type": "code",
   "execution_count": null,
   "metadata": {},
   "outputs": [],
   "source": [
    "struct Asset\n",
    "    p::Float64\n",
    "    q::Int64\n",
    "    trader::String\n",
    "end\n"
   ]
  },
  {
   "cell_type": "code",
   "execution_count": 6,
   "metadata": {},
   "outputs": [],
   "source": [
    "struct Order\n",
    "    p::Float64\n",
    "    q::Int64\n",
    "    trader::String\n",
    "end\n"
   ]
  },
  {
   "cell_type": "code",
   "execution_count": 7,
   "metadata": {},
   "outputs": [],
   "source": [
    "Base.getindex(inv::Order, asset::Int64) = 5"
   ]
  },
  {
   "cell_type": "code",
   "execution_count": 91,
   "metadata": {},
   "outputs": [
    {
     "data": {
      "text/plain": [
       "(:p, :q, :trader)"
      ]
     },
     "execution_count": 91,
     "metadata": {},
     "output_type": "execute_result"
    }
   ],
   "source": [
    "fieldnames(Order)"
   ]
  },
  {
   "cell_type": "code",
   "execution_count": 93,
   "metadata": {},
   "outputs": [
    {
     "data": {
      "text/plain": [
       "Order"
      ]
     },
     "execution_count": 93,
     "metadata": {},
     "output_type": "execute_result"
    }
   ],
   "source": [
    "typeof(Order(5,3, \"ad\"))"
   ]
  },
  {
   "cell_type": "code",
   "execution_count": 5,
   "metadata": {
    "scrolled": true
   },
   "outputs": [
    {
     "data": {
      "text/plain": [
       "true"
      ]
     },
     "execution_count": 5,
     "metadata": {},
     "output_type": "execute_result"
    }
   ],
   "source": [
    "hasmethod(myfunc, Tuple{Order})"
   ]
  },
  {
   "cell_type": "code",
   "execution_count": 99,
   "metadata": {},
   "outputs": [
    {
     "data": {
      "text/plain": [
       "to_dict (generic function with 1 method)"
      ]
     },
     "execution_count": 99,
     "metadata": {},
     "output_type": "execute_result"
    }
   ],
   "source": [
    "function to_dict(t::Any)\n",
    "    Dict(fn=>getfield(t, fn) for fn in fieldnames(typeof(t)))\n",
    "end"
   ]
  },
  {
   "cell_type": "code",
   "execution_count": null,
   "metadata": {},
   "outputs": [],
   "source": [
    "function test()"
   ]
  },
  {
   "cell_type": "code",
   "execution_count": 113,
   "metadata": {},
   "outputs": [
    {
     "data": {
      "text/plain": [
       "Dict{Symbol,Any} with 3 entries:\n",
       "  :p      => 5.0\n",
       "  :trader => \"as\"\n",
       "  :q      => 4"
      ]
     },
     "execution_count": 113,
     "metadata": {},
     "output_type": "execute_result"
    }
   ],
   "source": [
    "to_dict(Order(5,4,\"as\"))"
   ]
  },
  {
   "cell_type": "code",
   "execution_count": 112,
   "metadata": {},
   "outputs": [
    {
     "data": {
      "text/plain": [
       "Int64"
      ]
     },
     "execution_count": 112,
     "metadata": {},
     "output_type": "execute_result"
    }
   ],
   "source": [
    "typeof(54)"
   ]
  },
  {
   "cell_type": "code",
   "execution_count": 106,
   "metadata": {},
   "outputs": [
    {
     "data": {
      "text/plain": [
       "Dict{Any,Any} with 0 entries"
      ]
     },
     "execution_count": 106,
     "metadata": {},
     "output_type": "execute_result"
    }
   ],
   "source": [
    "to_dict(\"20000003\")"
   ]
  },
  {
   "cell_type": "code",
   "execution_count": 102,
   "metadata": {},
   "outputs": [
    {
     "data": {
      "text/plain": [
       "23"
      ]
     },
     "execution_count": 102,
     "metadata": {},
     "output_type": "execute_result"
    }
   ],
   "source": [
    "23"
   ]
  },
  {
   "cell_type": "code",
   "execution_count": 104,
   "metadata": {},
   "outputs": [
    {
     "data": {
      "text/plain": [
       "()"
      ]
     },
     "execution_count": 104,
     "metadata": {},
     "output_type": "execute_result"
    }
   ],
   "source": [
    "fieldnames(Int64)"
   ]
  },
  {
   "cell_type": "code",
   "execution_count": 16,
   "metadata": {
    "scrolled": true
   },
   "outputs": [
    {
     "data": {
      "text/plain": [
       "1-element Array{UnitRange{Int64},1}:\n",
       " 1:100"
      ]
     },
     "execution_count": 16,
     "metadata": {},
     "output_type": "execute_result"
    }
   ],
   "source": [
    "for i in[1:100]"
   ]
  },
  {
   "cell_type": "code",
   "execution_count": 41,
   "metadata": {},
   "outputs": [],
   "source": [
    "using Distributions"
   ]
  },
  {
   "cell_type": "code",
   "execution_count": 38,
   "metadata": {},
   "outputs": [
    {
     "data": {
      "text/plain": [
       "get_random_walk_step (generic function with 1 method)"
      ]
     },
     "execution_count": 38,
     "metadata": {},
     "output_type": "execute_result"
    }
   ],
   "source": [
    "function get_random_walk_step(α, ϕ, x_prev)\n",
    "    u = rand(Truncated(Normal(0, 2), min_price, max_price))\n",
    "    return alpha + phi * x_prev + u\n",
    "end"
   ]
  },
  {
   "cell_type": "code",
   "execution_count": 83,
   "metadata": {},
   "outputs": [
    {
     "data": {
      "text/plain": [
       "1504.599764264364"
      ]
     },
     "execution_count": 83,
     "metadata": {},
     "output_type": "execute_result"
    }
   ],
   "source": [
    "rand(Normal(0, 500))"
   ]
  },
  {
   "cell_type": "code",
   "execution_count": 87,
   "metadata": {},
   "outputs": [
    {
     "ename": "ErrorException",
     "evalue": "type Normal has no field sigma",
     "output_type": "error",
     "traceback": [
      "type Normal has no field sigma",
      "",
      "Stacktrace:",
      " [1] getproperty(::Normal{Float64}, ::Symbol) at .\\Base.jl:20",
      " [2] top-level scope at In[87]:1"
     ]
    }
   ],
   "source": [
    "Normal(0, 500).sigma"
   ]
  },
  {
   "cell_type": "code",
   "execution_count": 21,
   "metadata": {},
   "outputs": [
    {
     "ename": "MethodError",
     "evalue": "MethodError: no method matching -(::String, ::String)",
     "output_type": "error",
     "traceback": [
      "MethodError: no method matching -(::String, ::String)",
      "",
      "Stacktrace:",
      " [1] (::Colon)(::String, ::String) at .\\range.jl:7",
      " [2] top-level scope at In[21]:1"
     ]
    }
   ],
   "source": [
    "\"sad\":\"asd\""
   ]
  },
  {
   "cell_type": "code",
   "execution_count": 37,
   "metadata": {},
   "outputs": [
    {
     "data": {
      "text/plain": [
       "5"
      ]
     },
     "execution_count": 37,
     "metadata": {},
     "output_type": "execute_result"
    }
   ],
   "source": [
    "Int64(5.0000000000000001)"
   ]
  },
  {
   "cell_type": "code",
   "execution_count": 22,
   "metadata": {},
   "outputs": [
    {
     "data": {
      "text/plain": [
       "1:5"
      ]
     },
     "execution_count": 22,
     "metadata": {},
     "output_type": "execute_result"
    }
   ],
   "source": [
    "1:5"
   ]
  },
  {
   "cell_type": "code",
   "execution_count": 18,
   "metadata": {},
   "outputs": [
    {
     "data": {
      "text/plain": [
       "100-element Array{Int64,1}:\n",
       "   1\n",
       "   2\n",
       "   3\n",
       "   4\n",
       "   5\n",
       "   6\n",
       "   7\n",
       "   8\n",
       "   9\n",
       "  10\n",
       "  11\n",
       "  12\n",
       "  13\n",
       "   ⋮\n",
       "  89\n",
       "  90\n",
       "  91\n",
       "  92\n",
       "  93\n",
       "  94\n",
       "  95\n",
       "  96\n",
       "  97\n",
       "  98\n",
       "  99\n",
       " 100"
      ]
     },
     "execution_count": 18,
     "metadata": {},
     "output_type": "execute_result"
    }
   ],
   "source": [
    "[i for i in 1:100]"
   ]
  },
  {
   "cell_type": "code",
   "execution_count": 12,
   "metadata": {},
   "outputs": [
    {
     "ename": "MethodError",
     "evalue": "MethodError: no method matching getindex(::Order, ::Float64)\nClosest candidates are:\n  getindex(::Order, !Matched::Int64) at In[7]:1",
     "output_type": "error",
     "traceback": [
      "MethodError: no method matching getindex(::Order, ::Float64)\nClosest candidates are:\n  getindex(::Order, !Matched::Int64) at In[7]:1",
      "",
      "Stacktrace:",
      " [1] top-level scope at In[12]:1"
     ]
    }
   ],
   "source": [
    "Order(3,4,\"#asd\")[5.0]"
   ]
  },
  {
   "cell_type": "code",
   "execution_count": 18,
   "metadata": {},
   "outputs": [
    {
     "data": {
      "text/plain": [
       "false"
      ]
     },
     "execution_count": 18,
     "metadata": {},
     "output_type": "execute_result"
    }
   ],
   "source": [
    "applicable(myfunc, 2)"
   ]
  },
  {
   "cell_type": "code",
   "execution_count": 17,
   "metadata": {},
   "outputs": [
    {
     "ename": "UndefVarError",
     "evalue": "UndefVarError: myfunz not defined",
     "output_type": "error",
     "traceback": [
      "UndefVarError: myfunz not defined",
      "",
      "Stacktrace:",
      " [1] top-level scope at In[17]:1"
     ]
    }
   ],
   "source": [
    "hasmethod(myfunz, Tuple{Order})"
   ]
  },
  {
   "cell_type": "code",
   "execution_count": 16,
   "metadata": {},
   "outputs": [
    {
     "ename": "ErrorException",
     "evalue": "function applicable does not accept keyword arguments",
     "output_type": "error",
     "traceback": [
      "function applicable does not accept keyword arguments",
      "",
      "Stacktrace:",
      " [1] kwfunc(::Any) at .\\boot.jl:332",
      " [2] top-level scope at In[16]:1"
     ]
    }
   ],
   "source": [
    "applicable(myfunc, Order(2,3, \"´jack\"), market=2)"
   ]
  },
  {
   "cell_type": "code",
   "execution_count": 13,
   "metadata": {},
   "outputs": [
    {
     "data": {
      "text/plain": [
       "false"
      ]
     },
     "execution_count": 13,
     "metadata": {},
     "output_type": "execute_result"
    }
   ],
   "source": [
    "hasmethod(myfunc, Tuple{Real})"
   ]
  },
  {
   "cell_type": "code",
   "execution_count": 12,
   "metadata": {},
   "outputs": [
    {
     "ename": "MethodError",
     "evalue": "MethodError: no method matching hasmethod(::typeof(myfunc))\nClosest candidates are:\n  hasmethod(::Any, !Matched::Any; world) at reflection.jl:1225\n  hasmethod(::Any, !Matched::Any, !Matched::Tuple{Vararg{Symbol,N} where N}; world) at reflection.jl:1232",
     "output_type": "error",
     "traceback": [
      "MethodError: no method matching hasmethod(::typeof(myfunc))\nClosest candidates are:\n  hasmethod(::Any, !Matched::Any; world) at reflection.jl:1225\n  hasmethod(::Any, !Matched::Any, !Matched::Tuple{Vararg{Symbol,N} where N}; world) at reflection.jl:1232",
      "",
      "Stacktrace:",
      " [1] top-level scope at In[12]:1"
     ]
    }
   ],
   "source": [
    "hasmethod(myfunc)"
   ]
  },
  {
   "cell_type": "code",
   "execution_count": 10,
   "metadata": {},
   "outputs": [
    {
     "ename": "MethodError",
     "evalue": "MethodError: no method matching Dict{Real,V} where V(::Int64, ::Int64)",
     "output_type": "error",
     "traceback": [
      "MethodError: no method matching Dict{Real,V} where V(::Int64, ::Int64)",
      "",
      "Stacktrace:",
      " [1] top-level scope at In[10]:1"
     ]
    }
   ],
   "source": [
    "Dict{Real}(2, 2)"
   ]
  },
  {
   "cell_type": "code",
   "execution_count": null,
   "metadata": {},
   "outputs": [],
   "source": []
  },
  {
   "cell_type": "code",
   "execution_count": 22,
   "metadata": {},
   "outputs": [
    {
     "ename": "MethodError",
     "evalue": "MethodError: no method matching iterate(::Order)\nClosest candidates are:\n  iterate(!Matched::Core.SimpleVector) at essentials.jl:600\n  iterate(!Matched::Core.SimpleVector, !Matched::Any) at essentials.jl:600\n  iterate(!Matched::ExponentialBackOff) at error.jl:218\n  ...",
     "output_type": "error",
     "traceback": [
      "MethodError: no method matching iterate(::Order)\nClosest candidates are:\n  iterate(!Matched::Core.SimpleVector) at essentials.jl:600\n  iterate(!Matched::Core.SimpleVector, !Matched::Any) at essentials.jl:600\n  iterate(!Matched::ExponentialBackOff) at error.jl:218\n  ...",
      "",
      "Stacktrace:",
      " [1] mapfoldl_impl(::Function, ::Function, ::NamedTuple{(),Tuple{}}, ::Order) at .\\reduce.jl:55",
      " [2] #mapfoldl#186(::Base.Iterators.Pairs{Union{},Union{},Tuple{},NamedTuple{(),Tuple{}}}, ::typeof(mapfoldl), ::Function, ::Function, ::Order) at .\\reduce.jl:72",
      " [3] mapfoldl(::Function, ::Function, ::Order) at .\\reduce.jl:72",
      " [4] #mapreduce#194(::Base.Iterators.Pairs{Union{},Union{},Tuple{},NamedTuple{(),Tuple{}}}, ::typeof(mapreduce), ::Function, ::Function, ::Order) at .\\reduce.jl:200",
      " [5] mapreduce(::Function, ::Function, ::Order) at .\\reduce.jl:200",
      " [6] sum(::Function, ::Order) at .\\reduce.jl:395",
      " [7] sum(::Order) at .\\reduce.jl:412",
      " [8] top-level scope at In[22]:1"
     ]
    }
   ],
   "source": [
    "sum(Order(2,4,\"as\"))"
   ]
  },
  {
   "cell_type": "code",
   "execution_count": 23,
   "metadata": {},
   "outputs": [
    {
     "data": {
      "text/plain": [
       "sum (generic function with 13 methods)"
      ]
     },
     "execution_count": 23,
     "metadata": {},
     "output_type": "execute_result"
    }
   ],
   "source": [
    "sum"
   ]
  },
  {
   "cell_type": "code",
   "execution_count": 4,
   "metadata": {},
   "outputs": [
    {
     "ename": "UndefVarError",
     "evalue": "UndefVarError: method_exists not defined",
     "output_type": "error",
     "traceback": [
      "UndefVarError: method_exists not defined",
      "",
      "Stacktrace:",
      " [1] top-level scope at In[4]:1"
     ]
    }
   ],
   "source": [
    "method_exists(<, 5)"
   ]
  },
  {
   "cell_type": "code",
   "execution_count": 11,
   "metadata": {},
   "outputs": [
    {
     "data": {
      "text/plain": [
       "false"
      ]
     },
     "execution_count": 11,
     "metadata": {},
     "output_type": "execute_result"
    }
   ],
   "source": [
    "isdefined(:a, :b)"
   ]
  },
  {
   "cell_type": "code",
   "execution_count": 24,
   "metadata": {},
   "outputs": [
    {
     "data": {
      "text/plain": [
       "false"
      ]
     },
     "execution_count": 24,
     "metadata": {},
     "output_type": "execute_result"
    }
   ],
   "source": [
    "a = 5\n",
    "@isdefined get_trade_price"
   ]
  },
  {
   "cell_type": "code",
   "execution_count": 28,
   "metadata": {
    "scrolled": true
   },
   "outputs": [
    {
     "data": {
      "text/plain": [
       "3-element Array{Order,1}:\n",
       " Order(1.0, 6, \"John\")\n",
       " Order(1.0, 4, \"Jack\")\n",
       " Order(1.0, 5, \"Ron\") "
      ]
     },
     "execution_count": 28,
     "metadata": {},
     "output_type": "execute_result"
    }
   ],
   "source": [
    "arr = [Order(1, 6, \"John\"), Order(1, 4, \"Jack\"), Order(1, 5, \"Ron\")]"
   ]
  },
  {
   "cell_type": "code",
   "execution_count": 22,
   "metadata": {},
   "outputs": [
    {
     "data": {
      "text/plain": [
       "Order(1.0, 5, \"Ron\")"
      ]
     },
     "execution_count": 22,
     "metadata": {},
     "output_type": "execute_result"
    }
   ],
   "source": [
    "order_1 = Order(1, 5, \"John\")\n",
    "order_2 = Order(1, 5, \"Jack\")\n",
    "order_3 = Order(1, 5, \"Ron\")"
   ]
  },
  {
   "cell_type": "code",
   "execution_count": 23,
   "metadata": {},
   "outputs": [
    {
     "data": {
      "text/plain": [
       "3-element Array{Order,1}:\n",
       " Order(1.0, 5, \"John\")\n",
       " Order(1.0, 5, \"Jack\")\n",
       " Order(1.0, 5, \"Ron\") "
      ]
     },
     "execution_count": 23,
     "metadata": {},
     "output_type": "execute_result"
    }
   ],
   "source": [
    "arr = [order_1, order_2, order_3]"
   ]
  },
  {
   "cell_type": "code",
   "execution_count": 30,
   "metadata": {},
   "outputs": [
    {
     "ename": "MethodError",
     "evalue": "MethodError: no method matching Order(; p=2, q=2, trader=\"2\")\nClosest candidates are:\n  Order(!Matched::Float64, !Matched::Int64, !Matched::String) at In[2]:2 got unsupported keyword arguments \"p\", \"q\", \"trader\"\n  Order(!Matched::Any, !Matched::Any, !Matched::Any) at In[2]:2 got unsupported keyword arguments \"p\", \"q\", \"trader\"",
     "output_type": "error",
     "traceback": [
      "MethodError: no method matching Order(; p=2, q=2, trader=\"2\")\nClosest candidates are:\n  Order(!Matched::Float64, !Matched::Int64, !Matched::String) at In[2]:2 got unsupported keyword arguments \"p\", \"q\", \"trader\"\n  Order(!Matched::Any, !Matched::Any, !Matched::Any) at In[2]:2 got unsupported keyword arguments \"p\", \"q\", \"trader\"",
      "",
      "Stacktrace:",
      " [1] top-level scope at In[30]:1"
     ]
    }
   ],
   "source": [
    "Order(p=2, q=2, trader=\"2\")"
   ]
  },
  {
   "cell_type": "code",
   "execution_count": 29,
   "metadata": {},
   "outputs": [
    {
     "data": {
      "text/plain": [
       "2-element Array{Order,1}:\n",
       " Order(1.0, 6, \"John\")\n",
       " Order(1.0, 5, \"Ron\") "
      ]
     },
     "execution_count": 29,
     "metadata": {},
     "output_type": "execute_result"
    }
   ],
   "source": [
    "deleteat!(arr, findall(x -> x.q < 5, arr))"
   ]
  },
  {
   "cell_type": "code",
   "execution_count": 24,
   "metadata": {},
   "outputs": [
    {
     "ename": "LoadError",
     "evalue": "syntax: extra token \"order_1\" after end of expression",
     "output_type": "error",
     "traceback": [
      "syntax: extra token \"order_1\" after end of expression",
      ""
     ]
    }
   ],
   "source": [
    "clear order_1"
   ]
  },
  {
   "cell_type": "code",
   "execution_count": 21,
   "metadata": {},
   "outputs": [
    {
     "data": {
      "text/plain": [
       "false"
      ]
     },
     "execution_count": 21,
     "metadata": {},
     "output_type": "execute_result"
    }
   ],
   "source": [
    "NaN >= NaN"
   ]
  },
  {
   "cell_type": "code",
   "execution_count": 12,
   "metadata": {},
   "outputs": [
    {
     "data": {
      "text/plain": [
       "2-element Array{Order,1}:\n",
       " Order(1.0, 5, \"Jack\")\n",
       " Order(1.0, 5, \"Ron\") "
      ]
     },
     "execution_count": 12,
     "metadata": {},
     "output_type": "execute_result"
    }
   ],
   "source": [
    "deleteat!(arr, findall(order -> order== Order(1, 5, \"John\"), arr))"
   ]
  },
  {
   "cell_type": "code",
   "execution_count": 13,
   "metadata": {},
   "outputs": [
    {
     "data": {
      "text/plain": [
       "2-element Array{Order,1}:\n",
       " Order(1.0, 5, \"Jack\")\n",
       " Order(1.0, 5, \"Ron\") "
      ]
     },
     "execution_count": 13,
     "metadata": {},
     "output_type": "execute_result"
    }
   ],
   "source": [
    "arr"
   ]
  },
  {
   "cell_type": "code",
   "execution_count": 20,
   "metadata": {},
   "outputs": [
    {
     "data": {
      "text/plain": [
       "false"
      ]
     },
     "execution_count": 20,
     "metadata": {},
     "output_type": "execute_result"
    }
   ],
   "source": [
    "Order(1, 5, \"John\") == Order(1.2, 5, \"John\")"
   ]
  },
  {
   "cell_type": "code",
   "execution_count": 10,
   "metadata": {},
   "outputs": [
    {
     "data": {
      "text/plain": [
       "1-element Array{Int64,1}:\n",
       " 1"
      ]
     },
     "execution_count": 10,
     "metadata": {},
     "output_type": "execute_result"
    }
   ],
   "source": []
  },
  {
   "cell_type": "code",
   "execution_count": 27,
   "metadata": {},
   "outputs": [
    {
     "data": {
      "text/plain": [
       "Dict{Type,Int64} with 2 entries:\n",
       "  String => 2\n",
       "  Dict   => 1"
      ]
     },
     "execution_count": 27,
     "metadata": {},
     "output_type": "execute_result"
    }
   ],
   "source": [
    "d = Dict(Dict=>1, String=>2)"
   ]
  },
  {
   "cell_type": "code",
   "execution_count": 29,
   "metadata": {},
   "outputs": [
    {
     "data": {
      "text/plain": [
       "2"
      ]
     },
     "execution_count": 29,
     "metadata": {},
     "output_type": "execute_result"
    }
   ],
   "source": [
    "d[String]"
   ]
  },
  {
   "cell_type": "code",
   "execution_count": 26,
   "metadata": {},
   "outputs": [
    {
     "data": {
      "text/plain": [
       "String"
      ]
     },
     "execution_count": 26,
     "metadata": {},
     "output_type": "execute_result"
    }
   ],
   "source": [
    "String"
   ]
  },
  {
   "cell_type": "code",
   "execution_count": 24,
   "metadata": {},
   "outputs": [
    {
     "data": {
      "text/plain": [
       "12"
      ]
     },
     "execution_count": 24,
     "metadata": {},
     "output_type": "execute_result"
    }
   ],
   "source": [
    "d[\"B\"] += 5"
   ]
  },
  {
   "cell_type": "code",
   "execution_count": 25,
   "metadata": {},
   "outputs": [
    {
     "data": {
      "text/plain": [
       "Dict{String,Int64} with 2 entries:\n",
       "  \"B\" => 12\n",
       "  \"A\" => 1"
      ]
     },
     "execution_count": 25,
     "metadata": {},
     "output_type": "execute_result"
    }
   ],
   "source": [
    "d"
   ]
  },
  {
   "cell_type": "code",
   "execution_count": 6,
   "metadata": {},
   "outputs": [
    {
     "data": {
      "text/plain": [
       "0"
      ]
     },
     "execution_count": 6,
     "metadata": {},
     "output_type": "execute_result"
    }
   ],
   "source": [
    "get(Dict(\"d\" => 5, \"a\" => 6), \"dd\", 0)"
   ]
  },
  {
   "cell_type": "code",
   "execution_count": 2,
   "metadata": {},
   "outputs": [
    {
     "data": {
      "text/plain": [
       "Tuple{Int64,Int64}"
      ]
     },
     "execution_count": 2,
     "metadata": {},
     "output_type": "execute_result"
    }
   ],
   "source": [
    "tpl = Tuple{Int64,Int64}"
   ]
  },
  {
   "cell_type": "code",
   "execution_count": 15,
   "metadata": {},
   "outputs": [
    {
     "data": {
      "text/plain": [
       "my_func (generic function with 1 method)"
      ]
     },
     "execution_count": 15,
     "metadata": {},
     "output_type": "execute_result"
    }
   ],
   "source": [
    "my_func(feas::Tuple{Int64,Int64}) = feas[1] + feas[2]"
   ]
  },
  {
   "cell_type": "code",
   "execution_count": 17,
   "metadata": {},
   "outputs": [
    {
     "ename": "MethodError",
     "evalue": "MethodError: no method matching my_func(::Tuple{Int64,Int64,Int64})\nClosest candidates are:\n  my_func(!Matched::Tuple{Int64,Int64}) at In[15]:1",
     "output_type": "error",
     "traceback": [
      "MethodError: no method matching my_func(::Tuple{Int64,Int64,Int64})\nClosest candidates are:\n  my_func(!Matched::Tuple{Int64,Int64}) at In[15]:1",
      "",
      "Stacktrace:",
      " [1] top-level scope at In[17]:1"
     ]
    }
   ],
   "source": [
    "my_func((55,123, 5))"
   ]
  },
  {
   "cell_type": "code",
   "execution_count": 4,
   "metadata": {},
   "outputs": [
    {
     "data": {
      "text/html": [
       "28 methods for generic function <b>get</b>:<ul><li> get(::<b>Base.EnvDict</b>, k::<b>AbstractString</b>, def) in Base at <a href=\"https://github.com/JuliaLang/julia/tree/c6da87ff4bc7a855e217856757ad3413cf6d1f79/base/env.jl#L80\" target=\"_blank\">env.jl:80</a></li> <li> get(::<b>Base.TTY</b>, key::<b>Symbol</b>, default) in Base at <a href=\"https://github.com/JuliaLang/julia/tree/c6da87ff4bc7a855e217856757ad3413cf6d1f79/base/stream.jl#L504\" target=\"_blank\">stream.jl:504</a></li> <li> get(t::<b>REPL.Terminals.TTYTerminal</b>, key, default) in REPL.Terminals at <a href=\"file:///buildworker/worker/package_linux64/build/usr/share/julia/stdlib/v1.2/REPL/src/Terminals.jl\" target=\"_blank\">/buildworker/worker/package_linux64/build/usr/share/julia/stdlib/v1.2/REPL/src/Terminals.jl:176</a></li> <li> get(ctx::<b>ZMQ.Context</b>, option::<b>Integer</b>) in ZMQ at <a href=\"file:///home/mikael/.julia/packages/ZMQ/ABGOx/src/context.jl\" target=\"_blank\">/home/mikael/.julia/packages/ZMQ/ABGOx/src/context.jl:105</a></li> <li> get(zmsg::<b>ZMQ.Message</b>, option::<b>Integer</b>) in ZMQ at <a href=\"file:///home/mikael/.julia/packages/ZMQ/ABGOx/src/message.jl\" target=\"_blank\">/home/mikael/.julia/packages/ZMQ/ABGOx/src/message.jl:158</a></li> <li> get(A::<b>AbstractArray</b>, i::<b>Integer</b>, default) in Base at <a href=\"https://github.com/JuliaLang/julia/tree/c6da87ff4bc7a855e217856757ad3413cf6d1f79/base/abstractarray.jl#L1222\" target=\"_blank\">abstractarray.jl:1222</a></li> <li> get(A::<b>AbstractArray</b>, I::<b>Tuple{}</b>, default) in Base at <a href=\"https://github.com/JuliaLang/julia/tree/c6da87ff4bc7a855e217856757ad3413cf6d1f79/base/abstractarray.jl#L1223\" target=\"_blank\">abstractarray.jl:1223</a></li> <li> get(A::<b>AbstractArray</b>, I::<b>Tuple{Vararg{Int64,N}} where N</b>, default) in Base at <a href=\"https://github.com/JuliaLang/julia/tree/c6da87ff4bc7a855e217856757ad3413cf6d1f79/base/abstractarray.jl#L1224\" target=\"_blank\">abstractarray.jl:1224</a></li> <li> get(A::<b>AbstractArray</b>, I::<b>AbstractRange</b>, default) in Base at <a href=\"https://github.com/JuliaLang/julia/tree/c6da87ff4bc7a855e217856757ad3413cf6d1f79/base/abstractarray.jl#L1244\" target=\"_blank\">abstractarray.jl:1244</a></li> <li> get(A::<b>AbstractArray</b>, I::<b>Union{AbstractArray{AbstractRange{Int64},1}, AbstractArray{UnitRange{Int64},1}, AbstractArray{A,1}, Tuple{Vararg{Union{AbstractArray{Int64,1}, AbstractRange},N} where N}} where A<:AbstractArray{Int64,1}</b>, default) in Base at <a href=\"https://github.com/JuliaLang/julia/tree/c6da87ff4bc7a855e217856757ad3413cf6d1f79/base/abstractarray.jl#L1253\" target=\"_blank\">abstractarray.jl:1253</a></li> <li> get(d::<b>IdDict{K,V}</b>, key, default)<i> where {K, V}</i> in Base at <a href=\"https://github.com/JuliaLang/julia/tree/c6da87ff4bc7a855e217856757ad3413cf6d1f79/base/abstractdict.jl#L594\" target=\"_blank\">abstractdict.jl:594</a></li> <li> get(default::<b>Union{Function, Type}</b>, d::<b>IdDict{K,V}</b>, key)<i> where {K, V}</i> in Base at <a href=\"https://github.com/JuliaLang/julia/tree/c6da87ff4bc7a855e217856757ad3413cf6d1f79/base/abstractdict.jl#L649\" target=\"_blank\">abstractdict.jl:649</a></li> <li> get(v::<b>Base.Iterators.Pairs</b>, key, default) in Base.Iterators at <a href=\"https://github.com/JuliaLang/julia/tree/c6da87ff4bc7a855e217856757ad3413cf6d1f79/base/iterators.jl#L252\" target=\"_blank\">iterators.jl:252</a></li> <li> get(f::<b>Union{Function, Type}</b>, v::<b>Base.Iterators.Pairs</b>, key) in Base.Iterators at <a href=\"https://github.com/JuliaLang/julia/tree/c6da87ff4bc7a855e217856757ad3413cf6d1f79/base/iterators.jl#L253\" target=\"_blank\">iterators.jl:253</a></li> <li> get(nt::<b>NamedTuple</b>, key::<b>Union{Integer, Symbol}</b>, default) in Base at <a href=\"https://github.com/JuliaLang/julia/tree/c6da87ff4bc7a855e217856757ad3413cf6d1f79/base/namedtuple.jl#L266\" target=\"_blank\">namedtuple.jl:266</a></li> <li> get(f::<b>Union{Function, Type}</b>, nt::<b>NamedTuple</b>, key::<b>Union{Integer, Symbol}</b>) in Base at <a href=\"https://github.com/JuliaLang/julia/tree/c6da87ff4bc7a855e217856757ad3413cf6d1f79/base/namedtuple.jl#L267\" target=\"_blank\">namedtuple.jl:267</a></li> <li> get(h::<b>Dict{K,V}</b>, key, default)<i> where {K, V}</i> in Base at <a href=\"https://github.com/JuliaLang/julia/tree/c6da87ff4bc7a855e217856757ad3413cf6d1f79/base/dict.jl#L500\" target=\"_blank\">dict.jl:500</a></li> <li> get(default::<b>Union{Function, Type}</b>, h::<b>Dict{K,V}</b>, key)<i> where {K, V}</i> in Base at <a href=\"https://github.com/JuliaLang/julia/tree/c6da87ff4bc7a855e217856757ad3413cf6d1f79/base/dict.jl#L522\" target=\"_blank\">dict.jl:522</a></li> <li> get(dict::<b>Base.ImmutableDict</b>, key, default) in Base at <a href=\"https://github.com/JuliaLang/julia/tree/c6da87ff4bc7a855e217856757ad3413cf6d1f79/base/dict.jl#L768\" target=\"_blank\">dict.jl:768</a></li> <li> get(s::<b>AbstractString</b>, i::<b>Integer</b>, default) in Base at <a href=\"https://github.com/JuliaLang/julia/tree/c6da87ff4bc7a855e217856757ad3413cf6d1f79/base/strings/basic.jl#L176\" target=\"_blank\">strings/basic.jl:176</a></li> <li> get(io::<b>IOContext</b>, key, default) in Base at <a href=\"https://github.com/JuliaLang/julia/tree/c6da87ff4bc7a855e217856757ad3413cf6d1f79/base/show.jl#L286\" target=\"_blank\">show.jl:286</a></li> <li> get(io::<b>IJulia.IJuliaStdio</b>, key, default) in IJulia at <a href=\"file:///home/mikael/.julia/packages/IJulia/cwvsj/src/stdio.jl\" target=\"_blank\">/home/mikael/.julia/packages/IJulia/cwvsj/src/stdio.jl:21</a></li> <li> get(io::<b>IO</b>, key, default) in Base at <a href=\"https://github.com/JuliaLang/julia/tree/c6da87ff4bc7a855e217856757ad3413cf6d1f79/base/show.jl#L287\" target=\"_blank\">show.jl:287</a></li> <li> get(A::<b>AbstractArray</b>, I::<b>CartesianIndex</b>, default) in Base.IteratorsMD at <a href=\"https://github.com/JuliaLang/julia/tree/c6da87ff4bc7a855e217856757ad3413cf6d1f79/base/multidimensional.jl#L92\" target=\"_blank\">multidimensional.jl:92</a></li> <li> get(f::<b>Union{Function, Type}</b>, ::<b>Base.EnvDict</b>, k::<b>AbstractString</b>) in Base at <a href=\"https://github.com/JuliaLang/julia/tree/c6da87ff4bc7a855e217856757ad3413cf6d1f79/base/env.jl#L81\" target=\"_blank\">env.jl:81</a></li> <li> get(wkh::<b>WeakKeyDict{K,V} where V</b>, key, default)<i> where K</i> in Base at <a href=\"https://github.com/JuliaLang/julia/tree/c6da87ff4bc7a855e217856757ad3413cf6d1f79/base/weakkeydict.jl#L96\" target=\"_blank\">weakkeydict.jl:96</a></li> <li> get(default::<b>Union{Function, Type}</b>, wkh::<b>WeakKeyDict{K,V} where V</b>, key)<i> where K</i> in Base at <a href=\"https://github.com/JuliaLang/julia/tree/c6da87ff4bc7a855e217856757ad3413cf6d1f79/base/weakkeydict.jl#L97\" target=\"_blank\">weakkeydict.jl:97</a></li> <li> get(s::<b>Test.GenericDict</b>, x, y) in Test at <a href=\"file:///buildworker/worker/package_linux64/build/usr/share/julia/stdlib/v1.2/Test/src/Test.jl\" target=\"_blank\">/buildworker/worker/package_linux64/build/usr/share/julia/stdlib/v1.2/Test/src/Test.jl:1598</a></li> </ul>"
      ],
      "text/plain": [
       "# 28 methods for generic function \"get\":\n",
       "[1] get(::Base.EnvDict, k::AbstractString, def) in Base at env.jl:80\n",
       "[2] get(::Base.TTY, key::Symbol, default) in Base at stream.jl:504\n",
       "[3] get(t::REPL.Terminals.TTYTerminal, key, default) in REPL.Terminals at /buildworker/worker/package_linux64/build/usr/share/julia/stdlib/v1.2/REPL/src/Terminals.jl:176\n",
       "[4] get(ctx::ZMQ.Context, option::Integer) in ZMQ at /home/mikael/.julia/packages/ZMQ/ABGOx/src/context.jl:105\n",
       "[5] get(zmsg::ZMQ.Message, option::Integer) in ZMQ at /home/mikael/.julia/packages/ZMQ/ABGOx/src/message.jl:158\n",
       "[6] get(A::AbstractArray, i::Integer, default) in Base at abstractarray.jl:1222\n",
       "[7] get(A::AbstractArray, I::Tuple{}, default) in Base at abstractarray.jl:1223\n",
       "[8] get(A::AbstractArray, I::Tuple{Vararg{Int64,N}} where N, default) in Base at abstractarray.jl:1224\n",
       "[9] get(A::AbstractArray, I::AbstractRange, default) in Base at abstractarray.jl:1244\n",
       "[10] get(A::AbstractArray, I::Union{AbstractArray{AbstractRange{Int64},1}, AbstractArray{UnitRange{Int64},1}, AbstractArray{A,1}, Tuple{Vararg{Union{AbstractArray{Int64,1}, AbstractRange},N} where N}} where A<:AbstractArray{Int64,1}, default) in Base at abstractarray.jl:1253\n",
       "[11] get(d::IdDict{K,V}, key, default) where {K, V} in Base at abstractdict.jl:594\n",
       "[12] get(default::Union{Function, Type}, d::IdDict{K,V}, key) where {K, V} in Base at abstractdict.jl:649\n",
       "[13] get(v::Base.Iterators.Pairs, key, default) in Base.Iterators at iterators.jl:252\n",
       "[14] get(f::Union{Function, Type}, v::Base.Iterators.Pairs, key) in Base.Iterators at iterators.jl:253\n",
       "[15] get(nt::NamedTuple, key::Union{Integer, Symbol}, default) in Base at namedtuple.jl:266\n",
       "[16] get(f::Union{Function, Type}, nt::NamedTuple, key::Union{Integer, Symbol}) in Base at namedtuple.jl:267\n",
       "[17] get(h::Dict{K,V}, key, default) where {K, V} in Base at dict.jl:500\n",
       "[18] get(default::Union{Function, Type}, h::Dict{K,V}, key) where {K, V} in Base at dict.jl:522\n",
       "[19] get(dict::Base.ImmutableDict, key, default) in Base at dict.jl:768\n",
       "[20] get(s::AbstractString, i::Integer, default) in Base at strings/basic.jl:176\n",
       "[21] get(io::IOContext, key, default) in Base at show.jl:286\n",
       "[22] get(io::IJulia.IJuliaStdio, key, default) in IJulia at /home/mikael/.julia/packages/IJulia/cwvsj/src/stdio.jl:21\n",
       "[23] get(io::IO, key, default) in Base at show.jl:287\n",
       "[24] get(A::AbstractArray, I::CartesianIndex, default) in Base.IteratorsMD at multidimensional.jl:92\n",
       "[25] get(f::Union{Function, Type}, ::Base.EnvDict, k::AbstractString) in Base at env.jl:81\n",
       "[26] get(wkh::WeakKeyDict{K,V} where V, key, default) where K in Base at weakkeydict.jl:96\n",
       "[27] get(default::Union{Function, Type}, wkh::WeakKeyDict{K,V} where V, key) where K in Base at weakkeydict.jl:97\n",
       "[28] get(s::Test.GenericDict, x, y) in Test at /buildworker/worker/package_linux64/build/usr/share/julia/stdlib/v1.2/Test/src/Test.jl:1598"
      ]
     },
     "execution_count": 4,
     "metadata": {},
     "output_type": "execute_result"
    }
   ],
   "source": [
    "methods(get)"
   ]
  },
  {
   "cell_type": "code",
   "execution_count": 64,
   "metadata": {},
   "outputs": [],
   "source": [
    "struct Position\n",
    "    n::Int64\n",
    "    size::Rational\n",
    "end\n"
   ]
  },
  {
   "cell_type": "code",
   "execution_count": 65,
   "metadata": {},
   "outputs": [
    {
     "data": {
      "text/plain": [
       "+ (generic function with 162 methods)"
      ]
     },
     "execution_count": 65,
     "metadata": {},
     "output_type": "execute_result"
    }
   ],
   "source": [
    "import Base: +\n",
    "\n",
    "+(a::T, b::T) where T <: Position = T(a.n + b.n, a.size)"
   ]
  },
  {
   "cell_type": "code",
   "execution_count": 67,
   "metadata": {},
   "outputs": [
    {
     "data": {
      "text/plain": [
       "Position(6, 10//1)"
      ]
     },
     "execution_count": 67,
     "metadata": {},
     "output_type": "execute_result"
    }
   ],
   "source": [
    "p = Position(5, 10)\n",
    "p += Position(1, 5)"
   ]
  },
  {
   "cell_type": "code",
   "execution_count": 63,
   "metadata": {},
   "outputs": [
    {
     "ename": "LoadError",
     "evalue": "syntax: invalid identifier name \".+=\"",
     "output_type": "error",
     "traceback": [
      "syntax: invalid identifier name \".+=\"",
      ""
     ]
    }
   ],
   "source": [
    ".+="
   ]
  },
  {
   "cell_type": "code",
   "execution_count": 57,
   "metadata": {},
   "outputs": [
    {
     "data": {
      "text/plain": [
       "test (generic function with 1 method)"
      ]
     },
     "execution_count": 57,
     "metadata": {},
     "output_type": "execute_result"
    }
   ],
   "source": [
    "test(x) = x += 5"
   ]
  },
  {
   "cell_type": "code",
   "execution_count": 61,
   "metadata": {},
   "outputs": [
    {
     "data": {
      "text/plain": [
       "15"
      ]
     },
     "execution_count": 61,
     "metadata": {},
     "output_type": "execute_result"
    }
   ],
   "source": [
    "test(10)"
   ]
  },
  {
   "cell_type": "code",
   "execution_count": null,
   "metadata": {},
   "outputs": [],
   "source": [
    "+(x::Stock, y::Int64) = Celsius(x.value + y)\n",
    "-(x::Stock, y::Int64) = Celsius(x.value - y.value)\n",
    "\n",
    "\n"
   ]
  },
  {
   "cell_type": "code",
   "execution_count": null,
   "metadata": {},
   "outputs": [],
   "source": [
    "*(n::Int64, stock::Stock) = Stock(n, stock.name)"
   ]
  },
  {
   "cell_type": "code",
   "execution_count": 51,
   "metadata": {},
   "outputs": [
    {
     "data": {
      "text/plain": [
       "8"
      ]
     },
     "execution_count": 51,
     "metadata": {},
     "output_type": "execute_result"
    }
   ],
   "source": [
    "Base.summarysize(6)"
   ]
  },
  {
   "cell_type": "code",
   "execution_count": 55,
   "metadata": {},
   "outputs": [
    {
     "data": {
      "text/plain": [
       "148"
      ]
     },
     "execution_count": 55,
     "metadata": {},
     "output_type": "execute_result"
    }
   ],
   "source": [
    "Base.summarysize([Stock(\"John\",5), Stock(\"John\",5), Stock(\"John\",5)])"
   ]
  },
  {
   "cell_type": "code",
   "execution_count": 56,
   "metadata": {},
   "outputs": [
    {
     "data": {
      "text/plain": [
       "28"
      ]
     },
     "execution_count": 56,
     "metadata": {},
     "output_type": "execute_result"
    }
   ],
   "source": [
    "Base.summarysize(Stock(\"John\", 5))"
   ]
  },
  {
   "cell_type": "code",
   "execution_count": 49,
   "metadata": {},
   "outputs": [],
   "source": [
    "mutable struct Stock\n",
    "    name::String\n",
    "    n::Int64\n",
    "\n",
    "end"
   ]
  },
  {
   "cell_type": "code",
   "execution_count": 50,
   "metadata": {},
   "outputs": [
    {
     "data": {
      "text/plain": [
       "Dict{Stock,Int64} with 1 entry:\n",
       "  Stock(\"asd\", 5) => 5"
      ]
     },
     "execution_count": 50,
     "metadata": {},
     "output_type": "execute_result"
    }
   ],
   "source": [
    "Dict{Stock, Int64}(Stock(\"asd\", 5) => 5)"
   ]
  },
  {
   "cell_type": "code",
   "execution_count": 1,
   "metadata": {},
   "outputs": [
    {
     "ename": "MethodError",
     "evalue": "MethodError: no method matching Ticks{5}(::Int64)",
     "output_type": "error",
     "traceback": [
      "MethodError: no method matching Ticks{5}(::Int64)",
      "",
      "Stacktrace:",
      " [1] top-level scope at In[1]:10"
     ]
    }
   ],
   "source": [
    "struct Ticks{size}\n",
    "    n::Int64\n",
    "    #size::Rational\n",
    "    \n",
    "    function Ticks{size}(s::Int64) where T\n",
    "        new{size}(s)\n",
    "    end\n",
    "\n",
    "end\n",
    "\n",
    "Ticks{5}(5)"
   ]
  },
  {
   "cell_type": "code",
   "execution_count": 48,
   "metadata": {},
   "outputs": [
    {
     "data": {
      "text/plain": [
       "5"
      ]
     },
     "execution_count": 48,
     "metadata": {},
     "output_type": "execute_result"
    }
   ],
   "source": [
    "x = 5\n",
    "+(5, 5)\n",
    "x"
   ]
  },
  {
   "cell_type": "code",
   "execution_count": 100,
   "metadata": {},
   "outputs": [
    {
     "data": {
      "text/plain": [
       "myfunc (generic function with 6 methods)"
      ]
     },
     "execution_count": 100,
     "metadata": {},
     "output_type": "execute_result"
    }
   ],
   "source": [
    "function myfunc(arr::Array{T, 1}, val::T) where T <: Integer\n",
    "    print(arr)\n",
    "    print(val)\n",
    "end"
   ]
  },
  {
   "cell_type": "code",
   "execution_count": 25,
   "metadata": {},
   "outputs": [
    {
     "data": {
      "text/plain": [
       "testing (generic function with 1 method)"
      ]
     },
     "execution_count": 25,
     "metadata": {},
     "output_type": "execute_result"
    }
   ],
   "source": [
    "function testing(args...; stuff=5, kwargs...)\n",
    "    println(args[1])\n",
    "    println(\"Stuff $stuff\")\n",
    "end"
   ]
  },
  {
   "cell_type": "code",
   "execution_count": 26,
   "metadata": {
    "scrolled": false
   },
   "outputs": [
    {
     "name": "stdout",
     "output_type": "stream",
     "text": [
      "5\n",
      "Stuff 5\n"
     ]
    }
   ],
   "source": [
    "d = Dict(:stuff=>5, :x=>523)\n",
    "testing(5 ;d...)"
   ]
  },
  {
   "cell_type": "code",
   "execution_count": 30,
   "metadata": {},
   "outputs": [],
   "source": [
    "using Dates"
   ]
  },
  {
   "cell_type": "code",
   "execution_count": 37,
   "metadata": {},
   "outputs": [
    {
     "data": {
      "text/plain": [
       "10000000000 nanoseconds"
      ]
     },
     "execution_count": 37,
     "metadata": {},
     "output_type": "execute_result"
    }
   ],
   "source": [
    "Time(12, 0, 10) - Time(12, 0)"
   ]
  },
  {
   "cell_type": "code",
   "execution_count": null,
   "metadata": {},
   "outputs": [],
   "source": [
    "\n",
    "struct Stock\n",
    "    name::String\n",
    "    dividend_policy::Function\n",
    "    function Stock(name::String, expr::Expr)\n",
    "        div_func = quote\n",
    "            function get_dividend()\n",
    "                return $expr\n",
    "            end\n",
    "        end\n",
    "        new(name, div_func)\n",
    "    end\n",
    "end\n",
    "\n",
    "function pay_dividend!(stock::Stock, investors::Array{SingleAssetInvestor})\n",
    "    div_per_share = stock.dividend(stock)\n",
    "    for inv in investors\n",
    "        q = inv.position\n",
    "        total_dividend = q * div_per_share\n",
    "        inv.cash += total_dividend\n",
    "    end\n",
    "end"
   ]
  },
  {
   "cell_type": "code",
   "execution_count": 7,
   "metadata": {},
   "outputs": [
    {
     "data": {
      "text/plain": [
       "5"
      ]
     },
     "execution_count": 7,
     "metadata": {},
     "output_type": "execute_result"
    }
   ],
   "source": [
    "d = Dict{String, Int64}(\"da\"=> 5, \"daz\"=> 5)\n",
    "d[\"daz\"]"
   ]
  },
  {
   "cell_type": "code",
   "execution_count": 10,
   "metadata": {},
   "outputs": [
    {
     "data": {
      "text/plain": [
       "#3 (generic function with 1 method)"
      ]
     },
     "execution_count": 10,
     "metadata": {},
     "output_type": "execute_result"
    }
   ],
   "source": [
    "x -> 5"
   ]
  },
  {
   "cell_type": "code",
   "execution_count": 18,
   "metadata": {},
   "outputs": [
    {
     "data": {
      "text/plain": [
       "test (generic function with 1 method)"
      ]
     },
     "execution_count": 18,
     "metadata": {},
     "output_type": "execute_result"
    }
   ],
   "source": [
    "function test(vargs...; kwargs...)\n",
    "    println(vargs)\n",
    "    println(kwargs)\n",
    "    println(kwargs[:t])\n",
    "    return 5\n",
    "end"
   ]
  },
  {
   "cell_type": "code",
   "execution_count": 19,
   "metadata": {},
   "outputs": [
    {
     "name": "stdout",
     "output_type": "stream",
     "text": [
      "(4, 6, 7)\n",
      "Base.Iterators.Pairs(:t => 5)\n",
      "5\n"
     ]
    },
    {
     "data": {
      "text/plain": [
       "5"
      ]
     },
     "execution_count": 19,
     "metadata": {},
     "output_type": "execute_result"
    }
   ],
   "source": [
    "test(4,6,7, t=5)"
   ]
  },
  {
   "cell_type": "code",
   "execution_count": 47,
   "metadata": {},
   "outputs": [
    {
     "ename": "LoadError",
     "evalue": "LoadError: UndefVarError: MultiAssetInvestor not defined\nin expression starting at /media/mikael/DATA/Projects/thesis/src/stock.jl:19",
     "output_type": "error",
     "traceback": [
      "LoadError: UndefVarError: MultiAssetInvestor not defined\nin expression starting at /media/mikael/DATA/Projects/thesis/src/stock.jl:19",
      "",
      "Stacktrace:",
      " [1] top-level scope at /media/mikael/DATA/Projects/thesis/src/stock.jl:19",
      " [2] include at ./boot.jl:328 [inlined]",
      " [3] include_relative(::Module, ::String) at ./loading.jl:1094",
      " [4] include at ./Base.jl:31 [inlined]",
      " [5] include(::String) at /media/mikael/DATA/Projects/thesis/src/botmarket.jl:3",
      " [6] top-level scope at /media/mikael/DATA/Projects/thesis/src/botmarket.jl:12",
      " [7] include at ./boot.jl:328 [inlined]",
      " [8] include_relative(::Module, ::String) at ./loading.jl:1094",
      " [9] include(::Module, ::String) at ./Base.jl:31",
      " [10] include(::String) at ./client.jl:431",
      " [11] top-level scope at In[47]:1"
     ]
    }
   ],
   "source": [
    "include(\"src/botmarket.jl\")\n",
    "using .BotMarket\n",
    "\n",
    "price_expr = :(rand(Truncated(Normal(last_price, last_price/100), 0.01, 400)))\n",
    "order_expr = :(rand([SellLimitOrder, BuyLimitOrder]))\n",
    "quantity_expr = :(max_quantity == 0 ? 0 : rand(1:Int(max_quantity)));"
   ]
  },
  {
   "cell_type": "code",
   "execution_count": 46,
   "metadata": {},
   "outputs": [
    {
     "data": {
      "text/plain": [
       "22.32701706237975"
      ]
     },
     "execution_count": 46,
     "metadata": {},
     "output_type": "execute_result"
    }
   ],
   "source": [
    "using Distributions\n",
    "\n",
    "rand(Truncated(Normal(5, 5), 0.00, 400))"
   ]
  },
  {
   "cell_type": "code",
   "execution_count": null,
   "metadata": {},
   "outputs": [],
   "source": [
    "price_expr = :(rand(Truncated(Normal(last_price, last_price/100), 0.01, 400)))\n",
    "order_expr = :(rand([SellLimitOrder, BuyLimitOrder]))\n",
    "quantity_expr = :(max_quantity == 0 ? 0 : rand(1:Int(max_quantity)));\n",
    "\n",
    "dividend_expr = :(rand(Truncated(Normal(stock.last_dividend, 5), 0.00, 400)))"
   ]
  },
  {
   "cell_type": "code",
   "execution_count": 1,
   "metadata": {},
   "outputs": [
    {
     "ename": "UndefVarError",
     "evalue": "UndefVarError: SingleAssetInvestor not defined",
     "output_type": "error",
     "traceback": [
      "UndefVarError: SingleAssetInvestor not defined",
      "",
      "Stacktrace:",
      " [1] top-level scope at In[1]:14"
     ]
    }
   ],
   "source": [
    "\n",
    "struct Stock\n",
    "    name::String\n",
    "    dividend_policy::Function\n",
    "    function Stock(name::String, expr::Expr)\n",
    "        div_func = quote\n",
    "            function get_dividend()\n",
    "                return $expr\n",
    "            end\n",
    "        end\n",
    "        new(name, div_func)\n",
    "    end\n",
    "end\n",
    "\n",
    "function pay_dividend!(stock::Stock, investors::Array{SingleAssetInvestor})\n",
    "    div_per_share = stock.dividend(stock)\n",
    "    for inv in investors\n",
    "        q = inv.position\n",
    "        total_dividend = q * div_per_share\n",
    "        inv.cash += total_dividend\n",
    "    end\n",
    "end"
   ]
  },
  {
   "cell_type": "code",
   "execution_count": null,
   "metadata": {},
   "outputs": [],
   "source": []
  },
  {
   "cell_type": "code",
   "execution_count": 2,
   "metadata": {},
   "outputs": [
    {
     "data": {
      "text/plain": [
       "Ticks{5}"
      ]
     },
     "execution_count": 2,
     "metadata": {},
     "output_type": "execute_result"
    }
   ],
   "source": [
    "Ticks{5}"
   ]
  },
  {
   "cell_type": "code",
   "execution_count": null,
   "metadata": {},
   "outputs": [],
   "source": [
    "convert(::Type{Ticks}, t::Float64) = Ticks()"
   ]
  },
  {
   "cell_type": "code",
   "execution_count": 4,
   "metadata": {},
   "outputs": [],
   "source": [
    "struct BustedType2{B,S}\n",
    "    function BustedType2{B,S}() where {B,S}\n",
    "        (isa(B,Bool) && isa(S,Integer)) || error(\"bad params\")\n",
    "        new()\n",
    "    end\n",
    "end"
   ]
  },
  {
   "cell_type": "code",
   "execution_count": 9,
   "metadata": {},
   "outputs": [
    {
     "data": {
      "text/plain": [
       "BustedType2{5,Int64}"
      ]
     },
     "execution_count": 9,
     "metadata": {},
     "output_type": "execute_result"
    }
   ],
   "source": [
    "BustedType2{5, Int64}"
   ]
  },
  {
   "cell_type": "code",
   "execution_count": 10,
   "metadata": {},
   "outputs": [],
   "source": [
    "abstract type MyType end\n",
    "\n",
    "struct SubType <: MyType\n",
    "    n\n",
    "end"
   ]
  },
  {
   "cell_type": "code",
   "execution_count": 11,
   "metadata": {},
   "outputs": [],
   "source": [
    "struct Test\n",
    "    n\n",
    "    y\n",
    "    function Test(;n::Union{MyType, Int64}, y::Union{String, Float64})\n",
    "        new(n, y)\n",
    "    end\n",
    "end"
   ]
  },
  {
   "cell_type": "code",
   "execution_count": 63,
   "metadata": {},
   "outputs": [],
   "source": [
    "abstract type Order end\n",
    "\n",
    "struct Buy <: Order\n",
    "    n\n",
    "end\n",
    "\n",
    "struct Sell <: Order\n",
    "    n\n",
    "end\n",
    "\n",
    "struct Buyb <: Order\n",
    "    n\n",
    "    t::Int64\n",
    "end\n",
    "\n",
    "struct Sellb <: Order\n",
    "    n\n",
    "    t::Int64\n",
    "end"
   ]
  },
  {
   "cell_type": "code",
   "execution_count": 27,
   "metadata": {},
   "outputs": [
    {
     "data": {
      "text/plain": [
       "Test(5, 10.0)"
      ]
     },
     "execution_count": 27,
     "metadata": {},
     "output_type": "execute_result"
    }
   ],
   "source": [
    "Test(n=5, y=10.0)"
   ]
  },
  {
   "cell_type": "code",
   "execution_count": 65,
   "metadata": {},
   "outputs": [],
   "source": [
    "arr_1 = Array{Order, 1}()\n",
    "for n in 1:1:10000\n",
    "    push!(arr_1, rand([Buy, Sell])(n))\n",
    "end\n",
    "\n",
    "arr_2a= Array{Buyb, 1}()\n",
    "arr_2b= Array{Sellb, 1}()\n",
    "\n",
    "for n in 1:1:10000\n",
    "    if n % 2 == 0\n",
    "        push!(arr_2a, Buyb(n, n))\n",
    "    else\n",
    "        push!(arr_2b, Sellb(n, n))\n",
    "    end\n",
    "end"
   ]
  },
  {
   "cell_type": "code",
   "execution_count": 69,
   "metadata": {},
   "outputs": [
    {
     "data": {
      "text/plain": [
       "match_order (generic function with 3 methods)"
      ]
     },
     "execution_count": 69,
     "metadata": {},
     "output_type": "execute_result"
    }
   ],
   "source": [
    "function match_order(arr::Array{Order, 1})\n",
    "    o = Buy(10)\n",
    "    \n",
    "    sells = filter(x -> typeof(x) == Sell, arr)\n",
    "    buys = filter(x -> typeof(x) == Buy, arr)\n",
    "    \n",
    "    p_sells = filter(x -> x.n, sells)\n",
    "    p_buys = filter(x -> x.n, buys)\n",
    "    while minimum(map(order -> order.n, sells)) < maximum(map(order -> order.n, buys))\n",
    "        \n",
    "        index_sell = argmin(map(x -> x.n, sells))\n",
    "        index_buy = argmax(map(x -> x.n, buys))\n",
    "        \n",
    "        sells[index_sell]\n",
    "        \n",
    "    match = filter(x -> x.n < o.n, opposite)\n",
    "    match[0]\n",
    "end\n",
    "\n",
    "function match_order(arr::Array{Sellb, 1})\n",
    "    o = Buy(10)\n",
    "    opposite = arr\n",
    "    filter(x -> x.n < o.n, opposite)\n",
    "end"
   ]
  },
  {
   "cell_type": "code",
   "execution_count": 79,
   "metadata": {
    "scrolled": true
   },
   "outputs": [
    {
     "name": "stdout",
     "output_type": "stream",
     "text": [
      "  0.001895 seconds (22 allocations: 128.969 KiB)\n"
     ]
    },
    {
     "data": {
      "text/plain": [
       "5-element Array{Order,1}:\n",
       " Sell(1)\n",
       " Sell(2)\n",
       " Sell(4)\n",
       " Sell(6)\n",
       " Sell(9)"
      ]
     },
     "execution_count": 79,
     "metadata": {},
     "output_type": "execute_result"
    }
   ],
   "source": [
    "@time match_order(arr_1)"
   ]
  },
  {
   "cell_type": "code",
   "execution_count": 89,
   "metadata": {},
   "outputs": [
    {
     "data": {
      "text/plain": [
       "false"
      ]
     },
     "execution_count": 89,
     "metadata": {},
     "output_type": "execute_result"
    }
   ],
   "source": [
    ":Fair == \"Fair\""
   ]
  },
  {
   "cell_type": "code",
   "execution_count": 92,
   "metadata": {},
   "outputs": [
    {
     "name": "stdout",
     "output_type": "stream",
     "text": [
      "Int64[]"
     ]
    }
   ],
   "source": [
    "function myfunc(x::Array{T, 1}) where T Union{Integer, Float64}\n",
    "    print(x)\n",
    "end\n",
    "\n",
    "myfunc(Array{Int64, 1}())"
   ]
  },
  {
   "cell_type": "code",
   "execution_count": 85,
   "metadata": {},
   "outputs": [
    {
     "name": "stdout",
     "output_type": "stream",
     "text": [
      "PreFunc!Func!"
     ]
    }
   ],
   "source": [
    "function myfunc(n::Integer)\n",
    "    print(\"PreFunc!\")\n",
    "    myfunc(n+1)\n",
    "end\n",
    "\n",
    "function myfunc(n::Int64)\n",
    "    print(\"Func!\")\n",
    "end\n",
    "\n",
    "myfunc(Int32(5))"
   ]
  },
  {
   "cell_type": "code",
   "execution_count": 81,
   "metadata": {},
   "outputs": [
    {
     "data": {
      "text/plain": [
       "Integer"
      ]
     },
     "execution_count": 81,
     "metadata": {},
     "output_type": "execute_result"
    }
   ],
   "source": [
    "Integer"
   ]
  },
  {
   "cell_type": "code",
   "execution_count": 80,
   "metadata": {},
   "outputs": [
    {
     "name": "stdout",
     "output_type": "stream",
     "text": [
      "  0.000433 seconds (9 allocations: 400 bytes)\n"
     ]
    },
    {
     "data": {
      "text/plain": [
       "5-element Array{Sellb,1}:\n",
       " Sellb(1, 1)\n",
       " Sellb(3, 3)\n",
       " Sellb(5, 5)\n",
       " Sellb(7, 7)\n",
       " Sellb(9, 9)"
      ]
     },
     "execution_count": 80,
     "metadata": {},
     "output_type": "execute_result"
    }
   ],
   "source": [
    "@time match_order(arr_2b)"
   ]
  },
  {
   "cell_type": "code",
   "execution_count": 41,
   "metadata": {},
   "outputs": [
    {
     "name": "stdout",
     "output_type": "stream",
     "text": [
      "  0.039294 seconds (73.44 k allocations: 3.538 MiB)\n"
     ]
    },
    {
     "data": {
      "text/plain": [
       "10000-element Array{Int64,1}:\n",
       "     2\n",
       "     4\n",
       "     6\n",
       "     8\n",
       "    10\n",
       "    12\n",
       "    14\n",
       "    16\n",
       "    18\n",
       "    20\n",
       "    22\n",
       "    24\n",
       "    26\n",
       "     ⋮\n",
       " 19978\n",
       " 19980\n",
       " 19982\n",
       " 19984\n",
       " 19986\n",
       " 19988\n",
       " 19990\n",
       " 19992\n",
       " 19994\n",
       " 19996\n",
       " 19998\n",
       " 20000"
      ]
     },
     "execution_count": 41,
     "metadata": {},
     "output_type": "execute_result"
    }
   ],
   "source": [
    "@time map(x-> x.n*2, arr_1)"
   ]
  },
  {
   "cell_type": "code",
   "execution_count": 45,
   "metadata": {},
   "outputs": [
    {
     "name": "stdout",
     "output_type": "stream",
     "text": [
      "  0.045636 seconds (56.42 k allocations: 2.920 MiB)\n"
     ]
    },
    {
     "data": {
      "text/plain": [
       "10000-element Array{Int64,1}:\n",
       "     2\n",
       "     4\n",
       "     6\n",
       "     8\n",
       "    10\n",
       "    12\n",
       "    14\n",
       "    16\n",
       "    18\n",
       "    20\n",
       "    22\n",
       "    24\n",
       "    26\n",
       "     ⋮\n",
       " 19978\n",
       " 19980\n",
       " 19982\n",
       " 19984\n",
       " 19986\n",
       " 19988\n",
       " 19990\n",
       " 19992\n",
       " 19994\n",
       " 19996\n",
       " 19998\n",
       " 20000"
      ]
     },
     "execution_count": 45,
     "metadata": {},
     "output_type": "execute_result"
    }
   ],
   "source": [
    "@time map(x-> x*2, arr_2)"
   ]
  }
 ],
 "metadata": {
  "kernelspec": {
   "display_name": "Julia 1.3.1",
   "language": "julia",
   "name": "julia-1.3"
  },
  "language_info": {
   "file_extension": ".jl",
   "mimetype": "application/julia",
   "name": "julia",
   "version": "1.3.1"
  }
 },
 "nbformat": 4,
 "nbformat_minor": 2
}
