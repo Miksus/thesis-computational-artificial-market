{
 "cells": [
  {
   "cell_type": "code",
   "execution_count": null,
   "metadata": {},
   "outputs": [],
   "source": [
    "import pandas as pd\n",
    "import numpy as np\n",
    "from statsmodels.graphics.tsaplots import plot_acf\n",
    "\n",
    "import seaborn as sns\n",
    "from scipy.stats import norm\n",
    "import matplotlib.pyplot as plt\n",
    "%matplotlib inline"
   ]
  },
  {
   "cell_type": "code",
   "execution_count": null,
   "metadata": {},
   "outputs": [],
   "source": [
    "from mpl_toolkits.mplot3d import Axes3D\n",
    "from matplotlib import cm"
   ]
  },
  {
   "cell_type": "code",
   "execution_count": null,
   "metadata": {},
   "outputs": [],
   "source": [
    "from IPython.core.display import display, HTML\n",
    "display(HTML(\"<style>.container { width:100% !important; }</style>\"))"
   ]
  },
  {
   "cell_type": "code",
   "execution_count": null,
   "metadata": {},
   "outputs": [],
   "source": [
    "def calc_supply_demand(df):\n",
    "    #print(df)\n",
    "    df = df.reset_index(level=0, drop=True)\n",
    "    df = df.reindex(np.arange(df.index.min(), df.index.max() + 1))\n",
    "    df = df.sort_index().fillna(0)\n",
    "    df[\"supply\"] = df[\"ask\"].sort_index(ascending=True).cumsum()\n",
    "    df[\"demand\"] = df[\"bid\"].sort_index(ascending=False).cumsum()\n",
    "    return df\n",
    "\n",
    "def plot_market_depth(df_book, price_range=None):\n",
    "    #%matplotlib notebook\n",
    "    \n",
    "    df = df_book.pivot_table(\n",
    "        columns=\"side\",\n",
    "        index=[\"day\", \"price\"],\n",
    "        values=\"quantity\",\n",
    "        aggfunc=\"sum\"\n",
    "    ).groupby(\"day\").apply(calc_supply_demand)\n",
    "    \n",
    "    df_plot = df[[\"supply\", \"demand\"]].stack().rename(\"quantity\").reset_index().sort_values([\"day\", \"price\"])\n",
    "    df_plot = df_plot.groupby([\"day\", \"price\"])[\"quantity\"].sum().reset_index()\n",
    "\n",
    "    df_plt = pd.DataFrame()\n",
    "    for day in df_plot[\"day\"].unique():\n",
    "        df_day = df_plot[df_plot[\"day\"] == day]\n",
    "        df_day = (\n",
    "            df_day\n",
    "            .sort_values(\"price\")\n",
    "            .set_index(\"price\")\n",
    "            .reindex(np.arange(df_plot[\"price\"].min(), df_plot[\"price\"].max() + 1))\n",
    "        ).bfill().ffill()\n",
    "\n",
    "        if price_range is not None:\n",
    "            df_day = df_day[(df_day.index >= price_range[0]) & (df_day.index <= price_range[1])]\n",
    "\n",
    "        df_plt = df_plt.append(df_day)\n",
    "\n",
    "    df_plt = df_plt.reset_index()\n",
    "    x = df_plt[\"day\"]\n",
    "    y = df_plt[\"price\"]\n",
    "    z = df_plt[\"quantity\"]\n",
    "\n",
    "\n",
    "\n",
    "    fig = plt.figure()\n",
    "    ax = fig.gca(projection='3d')\n",
    "    surf = ax.plot_trisurf(x, y, z, cmap=cm.coolwarm) # , linewidth=0.1\n",
    "    #plt.clim(0,4)\n",
    "    ax.set_zlim(0,df_plt[\"quantity\"].max())\n",
    "    #ax.set_ylim(50,100)\n",
    "    return fig"
   ]
  },
  {
   "cell_type": "markdown",
   "metadata": {},
   "source": [
    "## Basic"
   ]
  },
  {
   "cell_type": "code",
   "execution_count": null,
   "metadata": {},
   "outputs": [],
   "source": [
    "%matplotlib inline\n",
    "df_trd = pd.read_csv(\"results/basic_lower/trades.csv\")\n",
    "df_trd = df_trd.sort_values(\"timestamp\")\n",
    "\n",
    "fig, axs = plt.subplots(3, 1, figsize=[7,10], sharex=True)\n",
    "\n",
    "df_trd.set_index(\"trading_day\")[\"price\"].plot(ax=axs[0])\n",
    "#axs[0].axhline(1000)\n",
    "df_trd.groupby(\"trading_day\")[\"quantity\"].sum().plot(ax=axs[1]) # , kind=\"bar\"\n",
    "\n",
    "(df_trd.groupby(\"trading_day\")[\"quantity\"].sum().reindex(np.arange(1, 1001)) * df_trd.groupby(\"trading_day\")[\"price\"].mean().reindex(np.arange(1, 1001))).plot(ax=axs[2])\n",
    "\n",
    "ax.set_xlabel(\"Trading session\")\n",
    "axs[0].set_ylabel(\"Price\")\n",
    "axs[1].set_ylabel(\"Traded quantity (sum per session)\")\n",
    "axs[2].set_ylabel(\"Traded value (sum per session)\")\n",
    "fig.suptitle('Trades throughout the simulation', fontsize=14)\n",
    "fig.savefig(f\"../thesis/plots/basic_trades_lower.png\")"
   ]
  },
  {
   "cell_type": "code",
   "execution_count": null,
   "metadata": {},
   "outputs": [],
   "source": [
    "axs[0, 1]"
   ]
  },
  {
   "cell_type": "code",
   "execution_count": null,
   "metadata": {},
   "outputs": [],
   "source": [
    "%matplotlib inline\n",
    "\n",
    "fig, axs = plt.subplots(3, 2, figsize=[10,10], sharex='col', sharey='row')\n",
    "\n",
    "df_trd = pd.read_csv(\"results/basic_lower/trades.csv\")\n",
    "df_plot_lower = pd.DataFrame(index=df_trd.trading_day.unique())\n",
    "df_plot_lower[\"price\"] = df_trd.groupby(\"trading_day\")[\"price\"].mean()\n",
    "df_plot_lower[\"quantity\"] = df_trd.groupby(\"trading_day\")[\"quantity\"].sum()\n",
    "df_plot_lower[\"value\"] = df_plot_lower[\"price\"] * df_plot_lower[\"quantity\"]\n",
    "\n",
    "df_trd = pd.read_csv(\"results/basic_higher/trades.csv\")\n",
    "df_plot_higher = pd.DataFrame(index=df_trd.trading_day.unique())\n",
    "df_plot_higher[\"price\"] = df_trd.groupby(\"trading_day\")[\"price\"].mean()\n",
    "df_plot_higher[\"quantity\"] = df_trd.groupby(\"trading_day\")[\"quantity\"].sum()\n",
    "df_plot_higher[\"value\"] = df_plot_higher[\"price\"] * df_plot_higher[\"quantity\"]\n",
    "\n",
    "for i, df_trd in enumerate((\n",
    "    pd.read_csv(\"results/basic_lower/trades.csv\"), \n",
    "    pd.read_csv(\"results/basic_higher/trades.csv\")\n",
    ")):\n",
    "    df = pd.DataFrame(index=df_trd.trading_day.unique())\n",
    "    df[\"price\"] = df_trd.groupby(\"trading_day\")[\"price\"].mean()\n",
    "    df[\"quantity\"] = df_trd.groupby(\"trading_day\")[\"quantity\"].sum()\n",
    "    df[\"value\"] = df_plot_higher[\"price\"] * df_plot_higher[\"quantity\"]\n",
    "    \n",
    "    df[\"price\"].plot(ax=axs[0, i])\n",
    "    #axs[0].axhline(1000)\n",
    "    df[\"quantity\"].plot(ax=axs[1, i]) # , kind=\"bar\"\n",
    "\n",
    "    df[\"value\"].plot(ax=axs[2, i])\n",
    "\n",
    "    ax.set_xlabel(\"Trading session\")\n",
    "    axs[0, i].set_ylabel(\"Price\")\n",
    "    axs[1, i].set_ylabel(\"Traded quantity (sum per session)\")\n",
    "    axs[2, i].set_ylabel(\"Traded value (sum per session)\")\n",
    "\n",
    "    axs[0, i].set_title({0: \"Market price starting from 500\", 1: \"Market price starting from 1 500\"}[i])\n",
    "\n",
    "axs[2, 0].set_xlabel(\"Trading session\")\n",
    "axs[2, 1].set_xlabel(\"Trading session\")\n",
    "fig.savefig(f\"../thesis/plots/basic_trades.png\")"
   ]
  },
  {
   "cell_type": "code",
   "execution_count": null,
   "metadata": {},
   "outputs": [],
   "source": [
    "%matplotlib notebook"
   ]
  },
  {
   "cell_type": "code",
   "execution_count": null,
   "metadata": {},
   "outputs": [],
   "source": [
    "df_books = pd.read_csv(\"results/basic_lower/books.csv\").set_index(\"day\")\n",
    "df_books = df_books.loc[0:100]\n",
    "#%matplotlib notebook\n",
    "fig = plot_market_depth(df_books)\n",
    "\n",
    "#plt.title(\"Market depth\")\n",
    "plt.xlabel(\"Trading session\")\n",
    "plt.ylabel(\"Price\")\n",
    "plt.gca().set_zlabel('Quantity')\n",
    "\n",
    "plt.gca().view_init(60, -30)\n",
    "plt.margins(0, 0, 0)\n",
    "#df_trd.groupby(\"trading_day\")[\"price\"].mean().loc[0:100].plot()"
   ]
  },
  {
   "cell_type": "code",
   "execution_count": null,
   "metadata": {},
   "outputs": [],
   "source": [
    "fig.savefig(f\"../thesis/plots/basic_market_depth_converge_lower.png\")"
   ]
  },
  {
   "cell_type": "code",
   "execution_count": null,
   "metadata": {},
   "outputs": [],
   "source": [
    "df_books = pd.read_csv(\"results/basic_higher/books.csv\").set_index(\"day\")\n",
    "df_books = df_books.loc[0:100]\n",
    "\n",
    "fig = plot_market_depth(df_books)\n",
    "\n",
    "#plt.title(\"Market depth\")\n",
    "plt.xlabel(\"Trading session\")\n",
    "plt.ylabel(\"Price\")\n",
    "plt.gca().set_zlabel('Quantity')\n",
    "\n",
    "plt.gca().view_init(60, -30)\n",
    "plt.margins(0, 0, 0)\n",
    "#df_trd.groupby(\"trading_day\")[\"price\"].mean().loc[0:100].plot();"
   ]
  },
  {
   "cell_type": "code",
   "execution_count": null,
   "metadata": {},
   "outputs": [],
   "source": [
    "fig.savefig(f\"../thesis/plots/basic_market_depth_converge_higher.png\")"
   ]
  },
  {
   "cell_type": "code",
   "execution_count": null,
   "metadata": {},
   "outputs": [],
   "source": [
    "# Autocorrelation of results\n",
    "df_trd = pd.read_csv(\"results/basic_lower/trades.csv\")\n",
    "df_trd = df_trd[df_trd[\"trading_day\"] >= 100].sort_values(\"timestamp\")\n",
    "#df_prices = df_trd.sort_values(\"timestamp\").groupby(\"trading_day\")[\"price\"].last().iloc[50:]\n",
    "\n",
    "fig = plot_acf(df_trd[\"price\"].pct_change(), lags=7, title=f\"Autocorrelation of Rate of Returns\")\n",
    "fig.savefig(f\"../thesis/plots/basic_autocorrelation.png\")"
   ]
  },
  {
   "cell_type": "code",
   "execution_count": null,
   "metadata": {},
   "outputs": [],
   "source": [
    "# Vola clusters\n",
    "df_trd = pd.read_csv(\"results/basic_lower/trades.csv\")\n",
    "df_trd = df_trd[df_trd[\"trading_day\"] >= 100].sort_values(\"timestamp\")\n",
    "fig = plot_acf(df_trd[\"price\"].pct_change().groupby(df_trd[\"price\"].index // 10).std(), lags=10, title=f\"Autocorrelation of volatility (10 trades)\")\n",
    "fig.savefig(f\"../thesis/plots/basic_volaclusters.png\")"
   ]
  },
  {
   "cell_type": "code",
   "execution_count": null,
   "metadata": {},
   "outputs": [],
   "source": [
    "# Fat tails\n",
    "df_trd = pd.read_csv(\"results/basic_lower/trades.csv\")\n",
    "df_trd = df_trd[df_trd[\"trading_day\"] >= 100].sort_values(\"timestamp\")\n",
    "\n",
    "fig = plt.figure()\n",
    "#data = norm.rvs(5,0.4,size=1000) # you can use a pandas series or a list if you want\n",
    "\n",
    "ax =sns.distplot(df_trd[\"price\"].pct_change().dropna(), fit=norm, kde=False)\n",
    "ax.set_title(f\"Distribution of returns & fitted normal distribution\")\n",
    "plt.legend([\"Fitted normal distribution\", \"Simulation\"])\n",
    "ax.set_xlabel(\"Rate of returns\")\n",
    "fig.savefig(\"../thesis/plots/basic_fat_tails.png\")"
   ]
  }
 ],
 "metadata": {
  "kernelspec": {
   "display_name": "Python 3",
   "language": "python",
   "name": "python3"
  },
  "language_info": {
   "codemirror_mode": {
    "name": "ipython",
    "version": 3
   },
   "file_extension": ".py",
   "mimetype": "text/x-python",
   "name": "python",
   "nbconvert_exporter": "python",
   "pygments_lexer": "ipython3",
   "version": "3.6.6"
  }
 },
 "nbformat": 4,
 "nbformat_minor": 4
}
