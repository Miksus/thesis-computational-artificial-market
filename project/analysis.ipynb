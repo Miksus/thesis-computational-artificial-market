{
 "cells": [
  {
   "cell_type": "code",
   "execution_count": null,
   "metadata": {},
   "outputs": [],
   "source": [
    "import pandas as pd"
   ]
  },
  {
   "cell_type": "code",
   "execution_count": null,
   "metadata": {},
   "outputs": [],
   "source": [
    "df = pd.read_csv(\"results/pos_start.csv\").set_index(\"name\")"
   ]
  },
  {
   "cell_type": "code",
   "execution_count": null,
   "metadata": {},
   "outputs": [],
   "source": [
    "df_trd = pd.read_csv(\"results/trades.csv\")"
   ]
  },
  {
   "cell_type": "code",
   "execution_count": null,
   "metadata": {},
   "outputs": [],
   "source": [
    "df_trd"
   ]
  },
  {
   "cell_type": "code",
   "execution_count": null,
   "metadata": {},
   "outputs": [],
   "source": [
    "df_trd[\"price\"].plot()"
   ]
  },
  {
   "cell_type": "code",
   "execution_count": null,
   "metadata": {},
   "outputs": [],
   "source": [
    "df_trd.pivot_table(\n",
    "    index=[\"trading_day\"],\n",
    "    values=[\"price\", \"quantity\"],\n",
    "    aggfunc={\"price\": \"mean\", \"quantity\": \"sum\"}\n",
    ")[\"price\"].plot()"
   ]
  },
  {
   "cell_type": "code",
   "execution_count": null,
   "metadata": {},
   "outputs": [],
   "source": [
    "df_trd.pivot_table(\n",
    "    index=[\"trading_day\"],\n",
    "    values=[\"price\", \"quantity\"],\n",
    "    aggfunc={\"price\": \"mean\", \"quantity\": \"sum\"}\n",
    ")[\"quantity\"].plot()"
   ]
  },
  {
   "cell_type": "code",
   "execution_count": null,
   "metadata": {},
   "outputs": [],
   "source": [
    "df = pd.read_csv(\"results/pos_end.csv\").set_index(\"name\")\n",
    "import seaborn as sns\n",
    "sns.distplot(df_trd[\"price\"], rug=True)"
   ]
  },
  {
   "cell_type": "code",
   "execution_count": null,
   "metadata": {},
   "outputs": [],
   "source": [
    "df = pd.read_csv(\"results/pos_end.csv\").set_index(\"name\")\n",
    "import seaborn as sns\n",
    "sns.distplot(df[\"generic_currency\"], rug=True)"
   ]
  },
  {
   "cell_type": "code",
   "execution_count": null,
   "metadata": {},
   "outputs": [],
   "source": [
    "sns.distplot(df[\"generic_stock\"], rug=True)"
   ]
  },
  {
   "cell_type": "code",
   "execution_count": null,
   "metadata": {},
   "outputs": [],
   "source": [
    "latest = df_trd[df_trd[\"timestamp\"].max() == df_trd[\"timestamp\"]][\"price\"].values[0]\n",
    "sns.distplot(df[\"generic_stock\"] * latest + df[\"generic_currency\"], rug=True)"
   ]
  },
  {
   "cell_type": "code",
   "execution_count": null,
   "metadata": {},
   "outputs": [],
   "source": [
    "df_trd.pivot_table(\n",
    "    index=[\"seller\", \"trading_day\"],\n",
    "    values=[\"price\", \"quantity\"],\n",
    "    aggfunc={\"price\": \"mean\", \"quantity\": \"sum\"}\n",
    ")"
   ]
  },
  {
   "cell_type": "code",
   "execution_count": null,
   "metadata": {},
   "outputs": [],
   "source": [
    "buy = df_trd.pivot_table(\n",
    "    index=[\"buyer\", \"trading_day\"],\n",
    "    values=[\"price\", \"quantity\"],\n",
    "    aggfunc={\"price\": \"mean\", \"quantity\": \"sum\"}\n",
    ").loc[2501, :]\n",
    "\n",
    "buy[\"curr_change\"] =  -buy[\"price\"] * buy[\"quantity\"]\n",
    "buy[\"stock_change\"] =  buy[\"quantity\"]\n",
    "\n",
    "sell = df_trd.pivot_table(\n",
    "    index=[\"seller\", \"trading_day\"],\n",
    "    values=[\"price\", \"quantity\"],\n",
    "    aggfunc={\"price\": \"mean\", \"quantity\": \"sum\"}\n",
    ").loc[2501, :]\n",
    "sell[\"curr_change\"] =  sell[\"price\"] * sell[\"quantity\"]\n",
    "sell[\"stock_change\"] = -sell[\"quantity\"]\n",
    "\n",
    "df_main = pd.concat([buy, sell], keys=[\"buy\", \"sell\"], axis=0)\n",
    "df_main.sort_index(level=1)"
   ]
  },
  {
   "cell_type": "code",
   "execution_count": null,
   "metadata": {},
   "outputs": [],
   "source": [
    "df_trd.pivot_table(\n",
    "    index=[\"buyer\"],\n",
    "    columns=[\"seller\"],\n",
    "    values=[\"price\", \"quantity\"],\n",
    "    aggfunc={\"price\": \"mean\", \"quantity\": \"sum\"}\n",
    ")#.loc[2501, :]"
   ]
  },
  {
   "cell_type": "code",
   "execution_count": null,
   "metadata": {},
   "outputs": [],
   "source": [
    "df_trd.pivot_table(\n",
    "    index=[\"seller\", \"trading_day\"],\n",
    "    values=[\"price\", \"quantity\"],\n",
    "    aggfunc={\"price\": \"mean\", \"quantity\": \"sum\"}\n",
    ").loc[2501, :]"
   ]
  },
  {
   "cell_type": "code",
   "execution_count": null,
   "metadata": {},
   "outputs": [],
   "source": [
    "sns.distplot(df_trd[\"buyer\"].value_counts(), rug=True)"
   ]
  },
  {
   "cell_type": "code",
   "execution_count": null,
   "metadata": {},
   "outputs": [],
   "source": [
    "sns.distplot(df_trd[\"seller\"].value_counts(), rug=True)"
   ]
  },
  {
   "cell_type": "code",
   "execution_count": null,
   "metadata": {},
   "outputs": [],
   "source": [
    "df"
   ]
  },
  {
   "cell_type": "code",
   "execution_count": null,
   "metadata": {},
   "outputs": [],
   "source": [
    "df_trd.set_index(\"timestamp\")[\"price\"].plot()"
   ]
  },
  {
   "cell_type": "code",
   "execution_count": null,
   "metadata": {},
   "outputs": [],
   "source": [
    "df"
   ]
  }
 ],
 "metadata": {
  "kernelspec": {
   "display_name": "Python 3",
   "language": "python",
   "name": "python3"
  },
  "language_info": {
   "codemirror_mode": {
    "name": "ipython",
    "version": 3
   },
   "file_extension": ".py",
   "mimetype": "text/x-python",
   "name": "python",
   "nbconvert_exporter": "python",
   "pygments_lexer": "ipython3",
   "version": "3.6.6"
  }
 },
 "nbformat": 4,
 "nbformat_minor": 4
}
