{
 "cells": [
  {
   "cell_type": "code",
   "execution_count": null,
   "metadata": {},
   "outputs": [],
   "source": [
    "\n",
    "include(\"src/botmarket.jl\")\n",
    "using .BotMarket\n",
    "\n",
    "# session\n",
    "world = ExternalWorld()\n",
    "\n",
    "investors = [\n",
    "    ZeroIntelligentInvestor(Dict(generic_currency=>100_000_00, generic_stock=>2000); min=0, max=500000)\n",
    "    for i in 1:100\n",
    "]\n",
    "markets = [ContinuousDoubleAuctionMarket() for i in 1:1]\n",
    "\n",
    "trading_days = 500\n",
    "\n",
    "include(\"main.jl\")\n",
    "run_simulation(investors, markets, trading_days)"
   ]
  },
  {
   "cell_type": "markdown",
   "metadata": {},
   "source": [
    "## Junks"
   ]
  },
  {
   "cell_type": "code",
   "execution_count": null,
   "metadata": {
    "scrolled": true
   },
   "outputs": [],
   "source": [
    "using Parameters\n",
    "using Statistics\n",
    "using Distributions\n",
    "using Plots\n",
    "using StatsPlots\n",
    "using CSV\n",
    "using DataFrames\n",
    "\n",
    "# Standard library\n",
    "using Random"
   ]
  },
  {
   "cell_type": "code",
   "execution_count": null,
   "metadata": {
    "scrolled": true
   },
   "outputs": [],
   "source": [
    "include(\"src/botmarket.jl\")\n",
    "using .BotMarket"
   ]
  },
  {
   "cell_type": "code",
   "execution_count": null,
   "metadata": {
    "scrolled": true
   },
   "outputs": [],
   "source": [
    "function save_positions(investors, path, assets=nothing)\n",
    "    if isnothing(assets)\n",
    "        assets = [\n",
    "            :generic_currency, \n",
    "            :generic_stock,\n",
    "        ]\n",
    "    end\n",
    "\n",
    "    df = DataFrame(\n",
    "        name = [inv.name for inv in investors], \n",
    "    )\n",
    "    for asset in assets\n",
    "        df[:, asset] = [inv.positions[eval(asset)] for inv in investors]\n",
    "    end\n",
    "    CSV.write(path, df) # \"results/pos_start.csv\"\n",
    "    df\n",
    "end"
   ]
  },
  {
   "cell_type": "code",
   "execution_count": null,
   "metadata": {},
   "outputs": [],
   "source": [
    "# session\n",
    "world = ExternalWorld()\n",
    "\n",
    "investors = [\n",
    "    ZeroIntelligentInvestor(Dict(generic_currency=>100_000_00, generic_stock=>2000); min=0, max=500000)\n",
    "    for i in 1:100\n",
    "]\n",
    "markets = [ContinuousDoubleAuctionMarket() for i in 1:1]\n",
    "\n",
    "trading_days = 500"
   ]
  },
  {
   "cell_type": "code",
   "execution_count": null,
   "metadata": {},
   "outputs": [],
   "source": [
    "markets[1].last_price = 5000"
   ]
  },
  {
   "cell_type": "code",
   "execution_count": null,
   "metadata": {
    "scrolled": false
   },
   "outputs": [],
   "source": [
    "\n",
    "save_positions(investors, \"results/pos_start.csv\")\n",
    "\n",
    "trades = []\n",
    "trd_day_of_trade = []\n",
    "orderbook = []\n",
    "for day in 1:trading_days\n",
    "    # Trading day\n",
    "    #println(\"Trading day \", day)\n",
    "    trades_day = []\n",
    "    for investor in investors, market in markets\n",
    "        \n",
    "        trds = place!(investor, market)\n",
    "        \n",
    "        if isnothing(trds)\n",
    "            # Do nothing, cannot put to the same\n",
    "            # check as below because the there\n",
    "            # is no method isempty with nothing\n",
    "        elseif ~isempty(trds)\n",
    "            trades_day = vcat(trades_day, trds)\n",
    "            trd_day_of_trade = vcat(trd_day_of_trade, repeat([day], length(trds)))\n",
    "        end\n",
    "    end\n",
    "    trades = vcat(trades, trades_day)\n",
    "    update!(world)\n",
    "    #println(\"Price: $(markets[1].last_price), Trades: $(length(trades_day))\")\n",
    "    for market in markets\n",
    "        cancel_all!(market)\n",
    "        \n",
    "    end\n",
    "    for inv in investors\n",
    "        # Otherwise they cannot trade\n",
    "        release_all!(inv)\n",
    "    end\n",
    "\n",
    "end\n",
    "\n",
    "\n",
    "save_positions(investors, \"results/pos_end.csv\")\n",
    "\n",
    "\n",
    "df = DataFrame(\n",
    "    timestamp = [trade.timestamp for trade in trades], \n",
    "    trading_day =  trd_day_of_trade,\n",
    "    price = [trade.price for trade in trades],\n",
    "    quantity = [trade.quantity for trade in trades],\n",
    "    seller = [trade.seller.name for trade in trades],\n",
    "    buyer = [trade.buyer.name for trade in trades],\n",
    ")\n",
    "CSV.write(\"results/trades.csv\", df)"
   ]
  },
  {
   "cell_type": "code",
   "execution_count": null,
   "metadata": {},
   "outputs": [],
   "source": [
    "include(\"main.jl\")"
   ]
  }
 ],
 "metadata": {
  "kernelspec": {
   "display_name": "Julia 1.3.1",
   "language": "julia",
   "name": "julia-1.3"
  },
  "language_info": {
   "file_extension": ".jl",
   "mimetype": "application/julia",
   "name": "julia",
   "version": "1.3.1"
  }
 },
 "nbformat": 4,
 "nbformat_minor": 2
}
