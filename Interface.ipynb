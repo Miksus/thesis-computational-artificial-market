{
 "cells": [
  {
   "cell_type": "code",
   "execution_count": null,
   "metadata": {
    "scrolled": false
   },
   "outputs": [],
   "source": [
    "include(\"src/botmarket.jl\")\n",
    "\n",
    "using Parameters\n",
    "using Statistics\n",
    "using Distributions\n",
    "using Plots\n",
    "using StatsPlots\n",
    "\n",
    "# Standard library\n",
    "using Random"
   ]
  },
  {
   "cell_type": "code",
   "execution_count": null,
   "metadata": {
    "scrolled": false
   },
   "outputs": [],
   "source": [
    "price_expr = :(rand(Truncated(Normal(last_price, last_price/100), 0.01, 400)))\n",
    "order_expr = :(rand([SellLimitOrder, BuyLimitOrder]))\n",
    "quantity_expr = :(max_quantity == 0 ? 0 : rand(1:Int(max_quantity)));"
   ]
  },
  {
   "cell_type": "code",
   "execution_count": null,
   "metadata": {
    "scrolled": true
   },
   "outputs": [],
   "source": [
    "n_iters = 300\n",
    "starting_cash = 4000\n",
    "n_stocks = 40\n",
    "n_traders = 100\n",
    "\n",
    "stock = DoubleAuctionMarket(\"NOK\")\n",
    "stock.last_price = 95\n",
    "prices = Array{Float64,1}()\n",
    "inv = [SingleAssetInvestor(\n",
    "        \"Player \" * string(n), starting_cash, n_stocks\n",
    "        , price_expr=price_expr, order_expr=order_expr, quantity_expr=quantity_expr\n",
    "        ) for n in 1:n_traders]\n",
    "\n",
    "\n",
    "for n in 1:n_iters\n",
    "    println(\"Placing...\")\n",
    "    for inv in inv\n",
    "        place!(inv, stock)\n",
    "    end\n",
    "    println(\"Clearing...\")\n",
    "    clear!(stock)\n",
    "    push!(prices, stock.last_price)\n",
    "\n",
    "    if n < n_iters\n",
    "        cancel!(stock)\n",
    "    end\n",
    "end"
   ]
  },
  {
   "cell_type": "markdown",
   "metadata": {},
   "source": [
    "## Update"
   ]
  },
  {
   "cell_type": "code",
   "execution_count": null,
   "metadata": {},
   "outputs": [],
   "source": [
    "n_iters = 300\n",
    "starting_cash = 6000\n",
    "n_stocks = 40\n",
    "n_traders = 100\n",
    "\n",
    "stock = DoubleAuctionMarket(\"NOK\")\n",
    "stock.last_price = 95\n",
    "prices = Array{Float64,1}()\n",
    "inv = [SingleAssetInvestor(\n",
    "        \"Player \" * string(n), starting_cash, n_stocks\n",
    "        , price_expr=price_expr, order_expr=order_expr, quantity_expr=quantity_expr\n",
    "        ) for n in 1:n_traders]\n",
    "\n",
    "\n",
    "for n in 1:n_iters\n",
    "    println(\"Placing...\")\n",
    "    for inv in shuffle(inv)\n",
    "        print(stock.last_price)\n",
    "        place!(inv, stock)\n",
    "        clear!(stock)\n",
    "        print(\"Price: $(stock.last_price)\")\n",
    "    end\n",
    "    push!(prices, stock.last_price)\n",
    "\n",
    "    if n < n_iters\n",
    "        cancel!(stock)\n",
    "    end\n",
    "end"
   ]
  },
  {
   "cell_type": "markdown",
   "metadata": {},
   "source": [
    "## Plotting"
   ]
  },
  {
   "cell_type": "code",
   "execution_count": null,
   "metadata": {
    "scrolled": false
   },
   "outputs": [],
   "source": [
    "line_prices = plot(prices, label=\"\", title=\"Last prices\", xlabel=\"Iterations\")\n",
    "bar_positions = groupedbar(hcat(map(x-> x.cash, inv), map(x-> x.position * stock.last_price, inv))\n",
    "    , bar_position = :stack, bar_width=1, labels=[\"cash\", \"value of stock position\"], color = [:green :blue],\n",
    "    title=\"Positions (at the end of the simulation)\", xlabel=\"trader id\")\n",
    "\n",
    "plot(line_prices, bar_positions, layout = grid(2,1,heights=[0.3,0.3]), size=[700,1000])"
   ]
  },
  {
   "cell_type": "code",
   "execution_count": null,
   "metadata": {},
   "outputs": [],
   "source": [
    "sell_prices = unique(map(x -> x.price, stock.sell_limit_orders))\n",
    "sell_quantities = [-sum(map(x-> x.quantity, filter(x -> x.price ==price, stock.sell_limit_orders))) for price in sell_prices]\n",
    "\n",
    "buy_prices = unique(map(x -> x.price, stock.buy_limit_orders))\n",
    "buy_quantities = [sum(map(x -> x.quantity, filter(x -> x.price ==price, stock.buy_limit_orders))) for price in buy_prices]\n",
    "\n",
    "bar(\n",
    "    sell_prices, \n",
    "    sell_quantities, \n",
    "    orientation=:horizontal, bar_width = 0.01, color=:red, label=\"Sell\", linewidth=0, xlabel=\"Quantity (negative for sell)\", ylabel=\"Price\")\n",
    "\n",
    "bar!(\n",
    "    buy_prices, \n",
    "    buy_quantities, \n",
    "    orientation=:horizontal, bar_width = 0.01, color=:green, label=\"Buy\", linewidth=0)\n",
    "vline!([0], color=:black, label=\"\")\n",
    "title!(\"Order book\")"
   ]
  },
  {
   "cell_type": "code",
   "execution_count": null,
   "metadata": {
    "scrolled": false
   },
   "outputs": [],
   "source": [
    "n_iters = 1\n",
    "starting_cash = 4000\n",
    "n_stocks = 40\n",
    "n_traders = 100\n",
    "\n",
    "stock = DoubleAuctionMarket(\"NOK\")\n",
    "stock.last_price = 90\n",
    "\n",
    "prices = Array{Float64,1}()\n",
    "inv = [Investor(\n",
    "        \"Player \" * string(n), starting_cash, n_stocks\n",
    "        , price_expr=price_expr, order_expr=order_expr, quantity_expr=quantity_expr\n",
    "        ) for n in 1:n_traders]\n",
    "\n",
    "for inv in inv\n",
    "    place!(inv, stock)\n",
    "end\n",
    "\n",
    "\n",
    "\n",
    "scatter(\n",
    "    map(x-> x.quantity, stock.buy_limit_orders),\n",
    "    map(x-> x.price, stock.buy_limit_orders),\n",
    "    label=\"Buy\", color=:green\n",
    ")\n",
    "scatter!(\n",
    "    map(x-> -x.quantity, stock.sell_limit_orders),\n",
    "    map(x-> x.price, stock.sell_limit_orders),\n",
    "    label=\"Sell\", color=:red\n",
    ")\n",
    "vline!([0], color=\"black\", label=\"\")\n",
    "ps, qs = clear!(stock)\n",
    "\n",
    "hline!([minimum(ps)], color=:green, label=\"Min price\")\n",
    "hline!([stock.last_price], color=:blue, label=\"Mean price\")\n",
    "hline!([maximum(ps)], color=:red, label=\"Max price\")"
   ]
  }
 ],
 "metadata": {
  "kernelspec": {
   "display_name": "Julia 1.2.0",
   "language": "julia",
   "name": "julia-1.2"
  },
  "language_info": {
   "file_extension": ".jl",
   "mimetype": "application/julia",
   "name": "julia",
   "version": "1.2.0"
  }
 },
 "nbformat": 4,
 "nbformat_minor": 2
}
